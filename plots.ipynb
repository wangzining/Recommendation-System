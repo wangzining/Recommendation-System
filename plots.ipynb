{
 "cells": [
  {
   "cell_type": "code",
   "execution_count": 64,
   "metadata": {
    "collapsed": false
   },
   "outputs": [],
   "source": [
    "import pandas as pd\n",
    "import numpy as np\n",
    "import matplotlib.pyplot as plt\n",
    "%matplotlib inline"
   ]
  },
  {
   "cell_type": "code",
   "execution_count": 173,
   "metadata": {
    "collapsed": true
   },
   "outputs": [],
   "source": [
    "path = 'data/ml-1m/users.dat'\n",
    "userdf = pd.read_csv(path,delimiter='::',header=None,engine='python')\n",
    "traindf = pd.read_csv(path,delimiter=',',header=None,engine='python')\n",
    "testdf = pd.read_csv(path,delimiter=',',header=None,engine='python')\n",
    "ratedf = pd.read_csv(path,delimiter='::',header=None,engine='python')\n",
    "moviedf = pd.read_csv(path,index_col=0,delimiter='::',header=None,engine='python')"
   ]
  },
  {
   "cell_type": "code",
   "execution_count": 111,
   "metadata": {
    "collapsed": false
   },
   "outputs": [],
   "source": [
    "# group rating by user  ID\n",
    "user_gb = ratedf[2].groupby(ratedf[0])\n",
    "female = list()\n",
    "male = list()\n",
    "x = np.zeros(6040)\n",
    "y = np.zeros(6040)\n",
    "for i in range(1,6041):\n",
    "    rate = ratedf.loc[user_gb.groups[i]][2].mean()\n",
    "    y[i-1] = rate\n",
    "    if (userdf.loc[i-1])[1]=='F':\n",
    "        female.append(rate)\n",
    "        x[i-1] = 1\n",
    "    else: male.append(rate)\n",
    "    \n",
    "# # group rating by movie\n",
    "# movie_gb = ratedf.groupby(1)\n",
    "# # true rating\n",
    "# test_y = testdf[2]\n",
    "# movies = set(traindf[1])"
   ]
  },
  {
   "cell_type": "code",
   "execution_count": 116,
   "metadata": {
    "collapsed": false
   },
   "outputs": [
    {
     "data": {
      "text/plain": [
       "Ttest_indResult(statistic=3.1107603650137001, pvalue=0.001882101864779079)"
      ]
     },
     "execution_count": 116,
     "metadata": {},
     "output_type": "execute_result"
    }
   ],
   "source": [
    "from scipy.stats import ttest_ind\n",
    "ttest_ind(np.array(female),np.array(male),equal_var=False)"
   ]
  },
  {
   "cell_type": "code",
   "execution_count": 110,
   "metadata": {
    "collapsed": false
   },
   "outputs": [
    {
     "data": {
      "image/png": "[encoded data removed]",
      "text/plain": [
       "<matplotlib.figure.Figure at 0x106f30090>"
      ]
     },
     "metadata": {},
     "output_type": "display_data"
    }
   ],
   "source": [
    "plt.boxplot([male,female])\n",
    "plt.xticks([1, 2], ['Male', 'Female'])\n",
    "plt.title('Average Rating By Gender')\n",
    "plt.show()"
   ]
  },
  {
   "cell_type": "code",
   "execution_count": 167,
   "metadata": {
    "collapsed": false,
    "scrolled": false
   },
   "outputs": [],
   "source": [
    "age_dict = dict()\n",
    "for i in [1,18,25,35,45,50,56]:\n",
    "    age_dict[i]=list()\n",
    "for i in range(1,6041):\n",
    "    rate = ratedf.loc[user_gb.groups[i]][2].mean()\n",
    "    age_dict[(userdf.loc[i-1])[2]].append(rate)\n",
    "import operator\n",
    "age_dict = sorted(age_dict.items(), key=operator.itemgetter(0))"
   ]
  },
  {
   "cell_type": "code",
   "execution_count": 168,
   "metadata": {
    "collapsed": false
   },
   "outputs": [
    {
     "name": "stdout",
     "output_type": "stream",
     "text": [
      "0 1 0.99109038984\n",
      "0 2 0.156987507138\n",
      "0 3 0.000345206461194\n",
      "0 4 4.19270238447e-05\n",
      "0 5 2.70360772246e-06\n",
      "0 6 9.56205932059e-08\n",
      "1 2 0.00377566931131\n",
      "1 3 1.20680559166e-11\n",
      "1 4 1.82531305707e-11\n",
      "1 5 5.0541177998e-14\n",
      "1 6 1.09659247046e-14\n",
      "2 3 4.7824115739e-07\n",
      "2 4 2.22189887885e-07\n",
      "2 5 9.1824638934e-10\n",
      "2 6 8.21913685205e-11\n",
      "3 4 0.19486828815\n",
      "3 5 0.01832292423\n",
      "3 6 0.000586197761593\n",
      "4 5 0.337827068173\n",
      "4 6 0.0310929064853\n",
      "5 6 0.194568831644\n"
     ]
    }
   ],
   "source": [
    "ages = [v[1] for v in age_dict]\n",
    "for i in range(7):\n",
    "    for j in range(7):\n",
    "        if j > i: \n",
    "            t,p = ttest_ind(np.array(ages[i]),np.array(ages[j]),equal_var=False)\n",
    "            print i,j,p"
   ]
  },
  {
   "cell_type": "code",
   "execution_count": 170,
   "metadata": {
    "collapsed": false,
    "scrolled": false
   },
   "outputs": [
    {
     "data": {
      "image/png": "[encoded data removed]",
      "text/plain": [
       "<matplotlib.figure.Figure at 0x109144190>"
      ]
     },
     "metadata": {},
     "output_type": "display_data"
    }
   ],
   "source": [
    "plt.boxplot([v[1] for v in age_dict])\n",
    "plt.xticks([1, 2,3,4,5,6,7], ['<18','18-24','25-34','35-44','45-49','50-55','56+'])\n",
    "plt.title('Average Rating By Age')\n",
    "\n",
    "plt.show()"
   ]
  },
  {
   "cell_type": "code",
   "execution_count": 126,
   "metadata": {
    "collapsed": true
   },
   "outputs": [],
   "source": [
    "occ_dict = dict()\n",
    "for i in range(21):\n",
    "    occ_dict[i]=list()\n",
    "for i in range(1,6041):\n",
    "    rate = ratedf.loc[user_gb.groups[i]][2].mean()\n",
    "    occ_dict[(userdf.loc[i-1])[3]].append(rate)\n"
   ]
  },
  {
   "cell_type": "code",
   "execution_count": 191,
   "metadata": {
    "collapsed": false
   },
   "outputs": [
    {
     "data": {
      "image/png": "[encoded data removed]",
      "text/plain": [
       "<matplotlib.figure.Figure at 0x1142eb9d0>"
      ]
     },
     "metadata": {},
     "output_type": "display_data"
    }
   ],
   "source": [
    "plt.boxplot([v for v in occ_dict.itervalues()])\n",
    "plt.title('Average Rating By Occupation')\n",
    "plt.show()"
   ]
  },
  {
   "cell_type": "code",
   "execution_count": 174,
   "metadata": {
    "collapsed": false
   },
   "outputs": [
    {
     "name": "stdout",
     "output_type": "stream",
     "text": [
      "1995\n",
      "                               1               2  year\n",
      "0                                                     \n",
      "3948     Meet the Parents (2000)          Comedy     9\n",
      "3949  Requiem for a Dream (2000)           Drama     9\n",
      "3950            Tigerland (2000)           Drama     9\n",
      "3951     Two Family House (2000)           Drama     9\n",
      "3952       Contender, The (2000)  Drama|Thriller     9\n"
     ]
    }
   ],
   "source": [
    "import re\n",
    "pat = re.compile(\"\\(([0-9]+)\\)\")\n",
    "print pat.search('aaa(1995)').group(1)\n",
    "years = [(int(pat.search(s).group(1)[2:])-1)/10 for s in moviedf[1]]\n",
    "years = [9 if x==-1 else x for x in years]\n",
    "moviedf['year'] = years\n",
    "print moviedf.tail()"
   ]
  },
  {
   "cell_type": "code",
   "execution_count": 143,
   "metadata": {
    "collapsed": true
   },
   "outputs": [],
   "source": [
    "movie_gb = ratedf[2].groupby(ratedf[1])"
   ]
  },
  {
   "cell_type": "code",
   "execution_count": null,
   "metadata": {
    "collapsed": false
   },
   "outputs": [],
   "source": [
    "year = dict()\n",
    "for i in range(0,10):\n",
    "    year[i] = list()\n",
    "for j,i in enumerate(moviedf.index):\n",
    "    if j%100==0: print j\n",
    "    if i not in list(movie_gb.keys): continue\n",
    "    rate = ratedf.loc[movie_gb.groups[i]][2].mean()\n",
    "    year[(moviedf.loc[i])['year']].append(rate)"
   ]
  },
  {
   "cell_type": "code",
   "execution_count": 192,
   "metadata": {
    "collapsed": false
   },
   "outputs": [
    {
     "data": {
      "image/png": "[encoded data removed]",
      "text/plain": [
       "<matplotlib.figure.Figure at 0x10a636190>"
      ]
     },
     "metadata": {},
     "output_type": "display_data"
    }
   ],
   "source": [
    "plt.boxplot([v[1] for v in year])\n",
    "plt.xticks(np.linspace(2,10,9),['19-20','21-30','31-40','41-50','51-60','61-70','71-80','81-90','91-00'])\n",
    "plt.title('Average Rating By Movie Year')\n",
    "plt.show()"
   ]
  },
  {
   "cell_type": "code",
   "execution_count": null,
   "metadata": {
    "collapsed": false
   },
   "outputs": [],
   "source": [
    "genre_dict = dict()\n",
    "genres=['Action','Adventure','Animation',\"Children's\",'Comedy','Crime','Documentary','Drama',\\\n",
    " 'Fantasy','Film-Noir','Horror','Musical','Mystery','Romance','Sci-Fi','Thriller','War','Western']\n",
    "for g in genres:\n",
    "    genre_dict[g]=list()\n",
    "for j,i in enumerate(moviedf.index):\n",
    "    if j%100==0: print j\n",
    "    if i not in list(movie_gb.keys): continue\n",
    "    rate = ratedf.loc[movie_gb.groups[i]][2].mean()\n",
    "    for g in moviedf.loc[i][2].split('|'):\n",
    "        genre_dict[g].append(rate)"
   ]
  },
  {
   "cell_type": "code",
   "execution_count": 184,
   "metadata": {
    "collapsed": false
   },
   "outputs": [
    {
     "data": {
      "text/html": [
       "<div>\n",
       "<table border=\"1\" class=\"dataframe\">\n",
       "  <thead>\n",
       "    <tr style=\"text-align: right;\">\n",
       "      <th></th>\n",
       "      <th>1</th>\n",
       "      <th>2</th>\n",
       "      <th>year</th>\n",
       "    </tr>\n",
       "    <tr>\n",
       "      <th>0</th>\n",
       "      <th></th>\n",
       "      <th></th>\n",
       "      <th></th>\n",
       "    </tr>\n",
       "  </thead>\n",
       "  <tbody>\n",
       "    <tr>\n",
       "      <th>1</th>\n",
       "      <td>Toy Story (1995)</td>\n",
       "      <td>Animation|Children's|Comedy</td>\n",
       "      <td>9</td>\n",
       "    </tr>\n",
       "    <tr>\n",
       "      <th>2</th>\n",
       "      <td>Jumanji (1995)</td>\n",
       "      <td>Adventure|Children's|Fantasy</td>\n",
       "      <td>9</td>\n",
       "    </tr>\n",
       "    <tr>\n",
       "      <th>3</th>\n",
       "      <td>Grumpier Old Men (1995)</td>\n",
       "      <td>Comedy|Romance</td>\n",
       "      <td>9</td>\n",
       "    </tr>\n",
       "    <tr>\n",
       "      <th>4</th>\n",
       "      <td>Waiting to Exhale (1995)</td>\n",
       "      <td>Comedy|Drama</td>\n",
       "      <td>9</td>\n",
       "    </tr>\n",
       "    <tr>\n",
       "      <th>5</th>\n",
       "      <td>Father of the Bride Part II (1995)</td>\n",
       "      <td>Comedy</td>\n",
       "      <td>9</td>\n",
       "    </tr>\n",
       "  </tbody>\n",
       "</table>\n",
       "</div>"
      ],
      "text/plain": [
       "                                    1                             2  year\n",
       "0                                                                        \n",
       "1                    Toy Story (1995)   Animation|Children's|Comedy     9\n",
       "2                      Jumanji (1995)  Adventure|Children's|Fantasy     9\n",
       "3             Grumpier Old Men (1995)                Comedy|Romance     9\n",
       "4            Waiting to Exhale (1995)                  Comedy|Drama     9\n",
       "5  Father of the Bride Part II (1995)                        Comedy     9"
      ]
     },
     "execution_count": 184,
     "metadata": {},
     "output_type": "execute_result"
    }
   ],
   "source": [
    "moviedf.head()"
   ]
  },
  {
   "cell_type": "code",
   "execution_count": 193,
   "metadata": {
    "collapsed": false
   },
   "outputs": [
    {
     "data": {
      "image/png": "[encoded data removed]",
      "text/plain": [
       "<matplotlib.figure.Figure at 0x106f30f10>"
      ]
     },
     "metadata": {},
     "output_type": "display_data"
    }
   ],
   "source": [
    "plt.boxplot([v for v in genre_dict.itervalues()])\n",
    "plt.xticks(np.linspace(1,18,18),[k for k in genre_dict.iterkeys()],rotation='vertical')\n",
    "plt.title('Average Rating By Genre')\n",
    "plt.show()"
   ]
  },
  {
   "cell_type": "code",
   "execution_count": null,
   "metadata": {
    "collapsed": true
   },
   "outputs": [],
   "source": []
  }
 ],
 "metadata": {
  "kernelspec": {
   "display_name": "Python 2",
   "language": "python",
   "name": "python2"
  },
  "language_info": {
   "codemirror_mode": {
    "name": "ipython",
    "version": 2
   },
   "file_extension": ".py",
   "mimetype": "text/x-python",
   "name": "python",
   "nbconvert_exporter": "python",
   "pygments_lexer": "ipython2",
   "version": "2.7.10"
  }
 },
 "nbformat": 4,
 "nbformat_minor": 0
}
