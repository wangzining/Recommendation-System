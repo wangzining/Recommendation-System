{
 "cells": [
  {
   "cell_type": "code",
   "execution_count": 28,
   "metadata": {
    "collapsed": false
   },
   "outputs": [],
   "source": [
    "from __future__ import division\n",
    "import numpy as np\n",
    "import scipy as sp\n",
    "from numpy.random import random\n",
    "import random\n",
    "import pandas\n",
    "\n",
    "\n",
    "data_dir = \"data/ml-1m/\"\n",
    "data_shape = (6040, 3952)\n",
    "\n",
    "# ratings = pandas.read_csv(data_dir + \"ratings.dat\", sep=\"::\", engine = 'python',header=None)\n",
    "# ratings.shape"
   ]
  },
  {
   "cell_type": "code",
   "execution_count": 46,
   "metadata": {
    "collapsed": false,
    "scrolled": false
   },
   "outputs": [
    {
     "name": "stdout",
     "output_type": "stream",
     "text": [
      "(800167, 4) (200042, 4)\n",
      "The input data size is  (800167, 4)\n",
      "The  0 -th step is running...\n"
     ]
    },
    {
     "name": "stderr",
     "output_type": "stream",
     "text": [
      "/anaconda/lib/python2.7/site-packages/ipykernel/__main__.py:38: FutureWarning: comparison to `None` will result in an elementwise object comparison in the future.\n",
      "/anaconda/lib/python2.7/site-packages/ipykernel/__main__.py:41: FutureWarning: comparison to `None` will result in an elementwise object comparison in the future.\n"
     ]
    },
    {
     "name": "stdout",
     "output_type": "stream",
     "text": [
      "The rmse of this step on training data is  1.02807280418\n",
      "The  1 -th step is running...\n",
      "The rmse of this step on training data is  0.920616149598\n",
      "The  2 -th step is running...\n",
      "The rmse of this step on training data is  0.906896745159\n",
      "The  3 -th step is running...\n",
      "The rmse of this step on training data is  0.898470625344\n",
      "The  4 -th step is running...\n",
      "The rmse of this step on training data is  0.893507157173\n",
      "The  5 -th step is running...\n",
      "The rmse of this step on training data is  0.889770753612\n",
      "The  6 -th step is running...\n",
      "The rmse of this step on training data is  0.887145591797\n",
      "The  7 -th step is running...\n",
      "The rmse of this step on training data is  0.884991800911\n",
      "The  8 -th step is running...\n",
      "The rmse of this step on training data is  0.883036643568\n",
      "The  9 -th step is running...\n",
      "The rmse of this step on training data is  0.881430011268\n",
      "The  10 -th step is running...\n",
      "The rmse of this step on training data is  0.880009501949\n",
      "The  11 -th step is running...\n",
      "The rmse of this step on training data is  0.878808770931\n",
      "The  12 -th step is running...\n",
      "The rmse of this step on training data is  0.877732415949\n",
      "The  13 -th step is running...\n",
      "The rmse of this step on training data is  0.87657862732\n",
      "The  14 -th step is running...\n",
      "The rmse of this step on training data is  0.875791065894\n",
      "The  15 -th step is running...\n",
      "The rmse of this step on training data is  0.874841484342\n",
      "The  16 -th step is running...\n",
      "The rmse of this step on training data is  0.874244981966\n",
      "The  17 -th step is running...\n",
      "The rmse of this step on training data is  0.873532681749\n",
      "The  18 -th step is running...\n",
      "The rmse of this step on training data is  0.873019948008\n",
      "The  19 -th step is running...\n",
      "The rmse of this step on training data is  0.87235746376\n",
      "The  20 -th step is running...\n",
      "The rmse of this step on training data is  0.87185451065\n",
      "The  21 -th step is running...\n",
      "The rmse of this step on training data is  0.871227514549\n",
      "The  22 -th step is running...\n",
      "The rmse of this step on training data is  0.870796034207\n",
      "The  23 -th step is running...\n",
      "The rmse of this step on training data is  0.870373847998\n",
      "The  24 -th step is running...\n",
      "The rmse of this step on training data is  0.869874379802\n",
      "The  25 -th step is running...\n",
      "The rmse of this step on training data is  0.869522746987\n",
      "The  26 -th step is running...\n",
      "The rmse of this step on training data is  0.869149377463\n",
      "The  27 -th step is running...\n",
      "The rmse of this step on training data is  0.868898851726\n",
      "The  28 -th step is running...\n",
      "The rmse of this step on training data is  0.868531295053\n",
      "The  29 -th step is running...\n",
      "The rmse of this step on training data is  0.86827280636\n",
      "the rmse on test data is  0.887521987726\n"
     ]
    }
   ],
   "source": [
    "class SVD_C:\n",
    "    def __init__(self, X, k = 10):\n",
    "        self.X = np.array(X)\n",
    "        self.k = k\n",
    "        self.ave = np.mean(self.X[:,2])\n",
    "        print \"The input data size is \", self.X.shape\n",
    "        self.bi = {}\n",
    "        self.bu = {}\n",
    "        self.qi = {}\n",
    "        self.pu = {}\n",
    "        #self.movie_user = {} #record movie-user rating into the dictionary\n",
    "        self.user_movie = {}\n",
    "        for i in range(self.X.shape[0]):\n",
    "            uid = self.X[i][0]\n",
    "            mid = self.X[i][1]\n",
    "            rat = self.X[i][2]\n",
    "#             self.movie_user.setdefault(mid,{})\n",
    "#             self.user_movie.setdefault(uid,{})\n",
    "#             self.movie_user[mid][uid] = rat\n",
    "#             self.user_movie[uid][mid] = rat\n",
    "            # initialize bi, bu as 0, and qi,pu to be 20 random numbers\n",
    "            #print self.qi\n",
    "            self.bi.setdefault(mid,0)\n",
    "            self.bu.setdefault(uid,0)\n",
    "#             self.qi.setdefault(mid,np.full(self.k,self.ave))\n",
    "#             self.pu.setdefault(uid,np.full(self.k,self.ave))\n",
    "            r = random.random()\n",
    "            self.qi.setdefault(mid,np.random.rand(self.k))  \n",
    "            self.pu.setdefault(uid,np.random.rand(self.k)) \n",
    "        \n",
    "    def pred(self,uid,mid):\n",
    "        self.bi.setdefault(mid,0)\n",
    "        self.bu.setdefault(uid,0)\n",
    "        self.qi.setdefault(mid,np.zeros((self.k,1)))\n",
    "        self.pu.setdefault(uid,np.zeros((self.k,1)))\n",
    "        \n",
    "        \n",
    "        if(self.qi[mid]==None):\n",
    "            # if qi vector has no previous info, set as 0s\n",
    "            self.qi[mid] = np.zeros(self.k,1)\n",
    "        if(self.pu[uid]==None):\n",
    "            self.pu[mid] = np.zeros(self.k,1)\n",
    "        ans = self.ave + self.bi[mid]+self.bu[uid]+np.sum(self.qi[mid]*self.pu[uid])\n",
    "        if ans > 5:\n",
    "            return 5\n",
    "        elif ans < 1:\n",
    "            return 1\n",
    "        return ans\n",
    "    def train(self,steps=30,gamma = 0.05,Lambda = 0.15):\n",
    "        for step in range(steps):\n",
    "            print 'The ',step,'-th step is running...'\n",
    "            rmse_sum = 0.0\n",
    "            kk = np.random.permutation(self.X.shape[0])\n",
    "            for j in range(self.X.shape[0]):\n",
    "                i = kk[j]\n",
    "                uid = self.X[i][0]\n",
    "                mid = self.X[i][1]\n",
    "                rat = self.X[i][2]\n",
    "                eui = rat-self.pred(uid,mid)\n",
    "                rmse_sum += eui**2\n",
    "                #update\n",
    "                self.bu[uid] += gamma*(eui-Lambda*self.bu[mid])\n",
    "                self.bi[mid] += gamma*(eui-Lambda*self.bi[mid])\n",
    "                temp = self.qi[mid]\n",
    "                self.qi[mid] += gamma*(eui*self.pu[uid]-Lambda*self.qi[mid])\n",
    "                self.pu[uid] += gamma*(eui*temp-Lambda*self.pu[uid])\n",
    "            gamma *= 0.93\n",
    "            print \"The rmse of this step on training data is \", np.sqrt(rmse_sum/self.X.shape[0])\n",
    "    def test(self,test_X):\n",
    "        output = []\n",
    "        sums = 0\n",
    "        test_X = np.array(test_X)\n",
    "        for i in range(test_X.shape[0]):\n",
    "            pre=self.pred(test_X[i][0],test_X[i][1])\n",
    "            output.append(pre)\n",
    "            sums += (pre-test_X[i][2])**2\n",
    "        rmse = np.sqrt(sums/test_X.shape[0])\n",
    "        print \"the rmse on test data is \",rmse\n",
    "        #return output\n",
    "def read_data():\n",
    "    train = pandas.read_csv(data_dir + \"train.dat\", sep=\",\",header=None)\n",
    "    test = pandas.read_csv(data_dir + \"test.dat\", sep=\",\",header=None)\n",
    "    return train,test\n",
    "    \n",
    "random.seed(520)    \n",
    "train,test = read_data()\n",
    "print np.array(train).shape, np.array(test).shape\n",
    "a = SVD_C(train,30)\n",
    "a.train()\n",
    "a.test(test)\n",
    "        \n"
   ]
  },
  {
   "cell_type": "code",
   "execution_count": 43,
   "metadata": {
    "collapsed": false
   },
   "outputs": [
    {
     "data": {
      "text/plain": [
       "30"
      ]
     },
     "execution_count": 43,
     "metadata": {},
     "output_type": "execute_result"
    }
   ],
   "source": [
    "# Restore the orginal matrix:\n",
    "\n",
    "\n",
    "ans = self.ave + self.bi[mid]+self.bu[uid]+np.sum(self.qi[mid]*self.pu[uid])"
   ]
  },
  {
   "cell_type": "code",
   "execution_count": 71,
   "metadata": {
    "collapsed": false
   },
   "outputs": [
    {
     "ename": "ValueError",
     "evalue": "setting an array element with a sequence.",
     "output_type": "error",
     "traceback": [
      "\u001b[0;31m---------------------------------------------------------------------------\u001b[0m",
      "\u001b[0;31mValueError\u001b[0m                                Traceback (most recent call last)",
      "\u001b[0;32m<ipython-input-71-bf992e19bc4f>\u001b[0m in \u001b[0;36m<module>\u001b[0;34m()\u001b[0m\n\u001b[1;32m      1\u001b[0m \u001b[0musr\u001b[0m \u001b[0;34m=\u001b[0m \u001b[0mnp\u001b[0m\u001b[0;34m.\u001b[0m\u001b[0marray\u001b[0m\u001b[0;34m(\u001b[0m\u001b[0ma\u001b[0m\u001b[0;34m.\u001b[0m\u001b[0mpu\u001b[0m\u001b[0;34m.\u001b[0m\u001b[0mvalues\u001b[0m\u001b[0;34m(\u001b[0m\u001b[0;34m)\u001b[0m\u001b[0;34m)\u001b[0m\u001b[0;34m\u001b[0m\u001b[0m\n\u001b[0;32m----> 2\u001b[0;31m \u001b[0mmovs\u001b[0m \u001b[0;34m=\u001b[0m \u001b[0mnp\u001b[0m\u001b[0;34m.\u001b[0m\u001b[0marray\u001b[0m\u001b[0;34m(\u001b[0m\u001b[0ma\u001b[0m\u001b[0;34m.\u001b[0m\u001b[0mqi\u001b[0m\u001b[0;34m.\u001b[0m\u001b[0mvalues\u001b[0m\u001b[0;34m(\u001b[0m\u001b[0;34m)\u001b[0m\u001b[0;34m)\u001b[0m\u001b[0;34m\u001b[0m\u001b[0m\n\u001b[0m\u001b[1;32m      3\u001b[0m \u001b[0mR\u001b[0m \u001b[0;34m=\u001b[0m \u001b[0mnumpy\u001b[0m\u001b[0;34m.\u001b[0m\u001b[0mdot\u001b[0m\u001b[0;34m(\u001b[0m\u001b[0musr\u001b[0m\u001b[0;34m,\u001b[0m\u001b[0mmov\u001b[0m\u001b[0;34m)\u001b[0m\u001b[0;34m\u001b[0m\u001b[0m\n",
      "\u001b[0;31mValueError\u001b[0m: setting an array element with a sequence."
     ]
    }
   ],
   "source": [
    "usr = np.array(a.pu.values())\n",
    "mov = np.array(a.qi.values())\n",
    "R = numpy.dot(usr,mov)"
   ]
  },
  {
   "cell_type": "code",
   "execution_count": 101,
   "metadata": {
    "collapsed": false,
    "scrolled": false
   },
   "outputs": [
    {
     "data": {
      "text/plain": [
       "array([-0.0029755, -0.0029755, -0.0029755, -0.0029755, -0.0029755,\n",
       "       -0.0029755, -0.0029755, -0.0029755, -0.0029755, -0.0029755,\n",
       "       -0.0029755, -0.0029755, -0.0029755, -0.0029755, -0.0029755,\n",
       "       -0.0029755, -0.0029755, -0.0029755, -0.0029755, -0.0029755,\n",
       "       -0.0029755, -0.0029755, -0.0029755, -0.0029755, -0.0029755,\n",
       "       -0.0029755, -0.0029755, -0.0029755, -0.0029755, -0.0029755])"
      ]
     },
     "execution_count": 101,
     "metadata": {},
     "output_type": "execute_result"
    }
   ],
   "source": [
    "a.pu.setdefault(660,np.zeros((20,1)))"
   ]
  },
  {
   "cell_type": "code",
   "execution_count": 12,
   "metadata": {
    "collapsed": false
   },
   "outputs": [
    {
     "data": {
      "text/plain": [
       "{1: 0}"
      ]
     },
     "execution_count": 12,
     "metadata": {},
     "output_type": "execute_result"
    }
   ],
   "source": [
    "wzn = {}\n",
    "wzn.setdefault(1,0)\n",
    "wzn"
   ]
  },
  {
   "cell_type": "code",
   "execution_count": 39,
   "metadata": {
    "collapsed": false
   },
   "outputs": [
    {
     "data": {
      "text/plain": [
       "0.4028424690354203"
      ]
     },
     "execution_count": 39,
     "metadata": {},
     "output_type": "execute_result"
    }
   ],
   "source": [
    "random.random()"
   ]
  },
  {
   "cell_type": "code",
   "execution_count": 37,
   "metadata": {
    "collapsed": false
   },
   "outputs": [
    {
     "data": {
      "text/plain": [
       "'//anaconda/lib/python2.7/random.pyc'"
      ]
     },
     "execution_count": 37,
     "metadata": {},
     "output_type": "execute_result"
    }
   ],
   "source": [
    "\n",
    "os.path.abspath(random.__file__)"
   ]
  },
  {
   "cell_type": "code",
   "execution_count": 45,
   "metadata": {
    "collapsed": false
   },
   "outputs": [
    {
     "data": {
      "text/plain": [
       "array([ 0.54406496,  0.68454838,  0.4875212 ,  0.51249738,  0.71622459,\n",
       "        0.26879943,  0.37857782,  0.10169341,  0.305406  ,  0.36588015,\n",
       "        0.63780711,  0.65245467,  0.39217587,  0.89262917,  0.94934257,\n",
       "        0.19185734,  0.81463484,  0.85221278,  0.56372023,  0.70633875])"
      ]
     },
     "execution_count": 45,
     "metadata": {},
     "output_type": "execute_result"
    }
   ],
   "source": [
    "np.random.rand(20)"
   ]
  },
  {
   "cell_type": "code",
   "execution_count": null,
   "metadata": {
    "collapsed": true
   },
   "outputs": [],
   "source": []
  }
 ],
 "metadata": {
  "anaconda-cloud": {},
  "kernelspec": {
   "display_name": "Python [conda root]",
   "language": "python",
   "name": "conda-root-py"
  },
  "language_info": {
   "codemirror_mode": {
    "name": "ipython",
    "version": 2
   },
   "file_extension": ".py",
   "mimetype": "text/x-python",
   "name": "python",
   "nbconvert_exporter": "python",
   "pygments_lexer": "ipython2",
   "version": "2.7.12"
  }
 },
 "nbformat": 4,
 "nbformat_minor": 1
}
