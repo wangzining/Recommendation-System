{
 "cells": [
  {
   "cell_type": "code",
   "execution_count": 28,
   "metadata": {
    "collapsed": false
   },
   "outputs": [],
   "source": [
    "from __future__ import division\n",
    "import numpy as np\n",
    "import scipy as sp\n",
    "from numpy.random import random\n",
    "import random\n",
    "import pandas\n",
    "\n",
    "\n",
    "data_dir = \"data/ml-1m/\"\n",
    "data_shape = (6040, 3952)\n",
    "\n",
    "# ratings = pandas.read_csv(data_dir + \"ratings.dat\", sep=\"::\", engine = 'python',header=None)\n",
    "# ratings.shape"
   ]
  },
  {
   "cell_type": "code",
   "execution_count": 57,
   "metadata": {
    "collapsed": false,
    "scrolled": false
   },
   "outputs": [
    {
     "name": "stdout",
     "output_type": "stream",
     "text": [
      "(800167, 4) (200042, 4)\n",
      "The input data size is  (800167, 4)\n",
      "The  0 -th step is running...\n"
     ]
    },
    {
     "name": "stderr",
     "output_type": "stream",
     "text": [
      "/anaconda/lib/python2.7/site-packages/ipykernel/__main__.py:38: FutureWarning: comparison to `None` will result in an elementwise object comparison in the future.\n",
      "/anaconda/lib/python2.7/site-packages/ipykernel/__main__.py:41: FutureWarning: comparison to `None` will result in an elementwise object comparison in the future.\n"
     ]
    },
    {
     "name": "stdout",
     "output_type": "stream",
     "text": [
      "The rmse of this step on training data is  1.02722259555\n",
      "The  1 -th step is running...\n",
      "The rmse of this step on training data is  0.920266127925\n",
      "The  2 -th step is running...\n",
      "The rmse of this step on training data is  0.907151642431\n",
      "The  3 -th step is running...\n",
      "The rmse of this step on training data is  0.899414193284\n",
      "The  4 -th step is running...\n",
      "The rmse of this step on training data is  0.894120345508\n",
      "The  5 -th step is running...\n",
      "The rmse of this step on training data is  0.890444270902\n",
      "The  6 -th step is running...\n",
      "The rmse of this step on training data is  0.887759700282\n",
      "The  7 -th step is running...\n",
      "The rmse of this step on training data is  0.88552939629\n",
      "The  8 -th step is running...\n",
      "The rmse of this step on training data is  0.883434263491\n",
      "The  9 -th step is running...\n",
      "The rmse of this step on training data is  0.881901188759\n",
      "The  10 -th step is running...\n",
      "The rmse of this step on training data is  0.880293005128\n",
      "The  11 -th step is running...\n",
      "The rmse of this step on training data is  0.879158528357\n",
      "The  12 -th step is running...\n",
      "The rmse of this step on training data is  0.877952165225\n",
      "The  13 -th step is running...\n",
      "The rmse of this step on training data is  0.877007332576\n",
      "The  14 -th step is running...\n",
      "The rmse of this step on training data is  0.876022170545\n",
      "The  15 -th step is running...\n",
      "The rmse of this step on training data is  0.875191111022\n",
      "The  16 -th step is running...\n",
      "The rmse of this step on training data is  0.874480393137\n",
      "The  17 -th step is running...\n",
      "The rmse of this step on training data is  0.873490659955\n",
      "The  18 -th step is running...\n",
      "The rmse of this step on training data is  0.873000545329\n",
      "The  19 -th step is running...\n",
      "The rmse of this step on training data is  0.872463064724\n",
      "The  20 -th step is running...\n",
      "The rmse of this step on training data is  0.871807599075\n",
      "The  21 -th step is running...\n",
      "The rmse of this step on training data is  0.871389888645\n",
      "The  22 -th step is running...\n",
      "The rmse of this step on training data is  0.870870021359\n",
      "The  23 -th step is running...\n",
      "The rmse of this step on training data is  0.870386940107\n",
      "The  24 -th step is running...\n",
      "The rmse of this step on training data is  0.87003499528\n",
      "The  25 -th step is running...\n",
      "The rmse of this step on training data is  0.869568803473\n",
      "The  26 -th step is running...\n",
      "The rmse of this step on training data is  0.869293672973\n",
      "The  27 -th step is running...\n",
      "The rmse of this step on training data is  0.868906495566\n",
      "The  28 -th step is running...\n",
      "The rmse of this step on training data is  0.868563957639\n",
      "The  29 -th step is running...\n",
      "The rmse of this step on training data is  0.868309142348\n",
      "the rmse on test data is  0.88759427466\n"
     ]
    }
   ],
   "source": [
    "class SVD_Bias:\n",
    "    def __init__(self, X, k = 30):\n",
    "        self.X = np.array(X)\n",
    "        self.k = k\n",
    "        #baseline average\n",
    "        self.ave = np.mean(self.X[:,2])\n",
    "        print \"The input data size is \", self.X.shape\n",
    "        #initialize...\n",
    "        self.qi = {}\n",
    "        self.pu = {}\n",
    "        self.bi = {}\n",
    "        self.bu = {}\n",
    "        \n",
    "        #self.movie_user = {} #record movie-user rating into the dictionary\n",
    "        self.user_movie = {}\n",
    "        for i in range(self.X.shape[0]):\n",
    "            uid = self.X[i][0]\n",
    "            mid = self.X[i][1]\n",
    "            rat = self.X[i][2]\n",
    "\n",
    "            # initialize bi, bu as 0, and qi,pu to be 30 random numbers\n",
    "            #print self.qi\n",
    "            self.bi.setdefault(mid,0)\n",
    "            self.bu.setdefault(uid,0)\n",
    "\n",
    "            r = random.random()\n",
    "            self.qi.setdefault(mid,np.random.rand(self.k))  \n",
    "            self.pu.setdefault(uid,np.random.rand(self.k)) \n",
    "        \n",
    "    def pred(self,uid,mid):\n",
    "        self.bi.setdefault(mid,0)\n",
    "        self.bu.setdefault(uid,0)\n",
    "        self.qi.setdefault(mid,np.zeros((self.k,1)))\n",
    "        self.pu.setdefault(uid,np.zeros((self.k,1)))\n",
    "        \n",
    "        \n",
    "        if(self.qi[mid]==None):\n",
    "            # if qi vector has no previous info, set as 0s (no deviation from the baseline)\n",
    "            self.qi[mid] = np.zeros(self.k,1)\n",
    "        if(self.pu[uid]==None):\n",
    "            self.pu[mid] = np.zeros(self.k,1)\n",
    "        ans = self.ave + self.bi[mid]+self.bu[uid]+np.sum(self.qi[mid]*self.pu[uid])\n",
    "        if ans > 5:\n",
    "            return 5\n",
    "        elif ans < 1:\n",
    "            return 1\n",
    "        return ans\n",
    "    def train(self,steps=30,gamma = 0.05,Lambda = 0.15):\n",
    "        for step in range(steps):\n",
    "            print 'The ',step,'-th step is running...'\n",
    "            rmse_sum = 0.0\n",
    "            kk = np.random.permutation(self.X.shape[0])\n",
    "            for j in range(self.X.shape[0]):\n",
    "                i = kk[j]\n",
    "                uid = self.X[i][0]\n",
    "                mid = self.X[i][1]\n",
    "                rat = self.X[i][2]\n",
    "                eui = rat-self.pred(uid,mid)\n",
    "                rmse_sum += eui**2\n",
    "                #update\n",
    "                self.bu[uid] += gamma*(eui-Lambda*self.bu[mid])\n",
    "                self.bi[mid] += gamma*(eui-Lambda*self.bi[mid])\n",
    "                temp = self.qi[mid]\n",
    "                self.qi[mid] += gamma*(eui*self.pu[uid]-Lambda*self.qi[mid])\n",
    "                self.pu[uid] += gamma*(eui*temp-Lambda*self.pu[uid])\n",
    "            gamma *= 0.93\n",
    "            print \"The rmse of this step on training data is \", np.sqrt(rmse_sum/self.X.shape[0])\n",
    "    def test(self,test_X):\n",
    "        res = []\n",
    "        sums = 0\n",
    "        test_X = np.array(test_X)\n",
    "        for i in range(test_X.shape[0]):\n",
    "            #print X.shape\n",
    "            prdi=self.pred(test_X[i][0],test_X[i][1])\n",
    "            output.append(prdi)\n",
    "            sums += (pre-test_X[i][2])**2\n",
    "        rmse = np.sqrt(sums/test_X.shape[0])\n",
    "        print \"the rmse on test data is \",rmse\n",
    "        #return output\n",
    "def read_data():\n",
    "    train = pandas.read_csv(data_dir + \"train.dat\", sep=\",\",header=None)\n",
    "    test = pandas.read_csv(data_dir + \"test.dat\", sep=\",\",header=None)\n",
    "    return train,test\n",
    "    \n",
    "random.seed(1)    \n",
    "train,test = read_data()\n",
    "print np.array(train).shape, np.array(test).shape\n",
    "a = SVD_Bias(train,30)\n",
    "a.train()\n",
    "a.test(test)\n",
    "        \n"
   ]
  },
  {
   "cell_type": "code",
   "execution_count": 43,
   "metadata": {
    "collapsed": false
   },
   "outputs": [
    {
     "data": {
      "text/plain": [
       "30"
      ]
     },
     "execution_count": 43,
     "metadata": {},
     "output_type": "execute_result"
    }
   ],
   "source": [
    "# Restore the orginal matrix:\n",
    "#ans = self.ave + self.bi[mid]+self.bu[uid]+np.sum(self.qi[mid]*self.pu[uid])"
   ]
  },
  {
   "cell_type": "code",
   "execution_count": null,
   "metadata": {
    "collapsed": true
   },
   "outputs": [],
   "source": []
  }
 ],
 "metadata": {
  "anaconda-cloud": {},
  "kernelspec": {
   "display_name": "Python [conda root]",
   "language": "python",
   "name": "conda-root-py"
  },
  "language_info": {
   "codemirror_mode": {
    "name": "ipython",
    "version": 2
   },
   "file_extension": ".py",
   "mimetype": "text/x-python",
   "name": "python",
   "nbconvert_exporter": "python",
   "pygments_lexer": "ipython2",
   "version": "2.7.12"
  }
 },
 "nbformat": 4,
 "nbformat_minor": 1
}
