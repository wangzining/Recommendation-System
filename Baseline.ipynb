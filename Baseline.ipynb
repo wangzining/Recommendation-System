{
 "cells": [
  {
   "cell_type": "code",
   "execution_count": 10,
   "metadata": {
    "collapsed": true
   },
   "outputs": [],
   "source": [
    "# Run some recommendation experiments using MovieLens 100K\n",
    "import pandas\n",
    "import numpy\n",
    "import scipy.sparse\n",
    "import scipy.sparse.linalg\n",
    "import matplotlib.pyplot as plt\n",
    "from sklearn.metrics import mean_absolute_error\n",
    "from sklearn.metrics import mean_squared_error\n",
    "\n",
    "\n",
    "data_dir = \"data/ml-100k/\"\n",
    "data_shape = (943, 1682)\n",
    "\n",
    "df = pandas.read_csv(data_dir + \"ua.base\", sep=\"\\t\", header=-1)"
   ]
  },
  {
   "cell_type": "code",
   "execution_count": 2,
   "metadata": {
    "collapsed": false
   },
   "outputs": [
    {
     "data": {
      "text/html": [
       "<div>\n",
       "<table border=\"1\" class=\"dataframe\">\n",
       "  <thead>\n",
       "    <tr style=\"text-align: right;\">\n",
       "      <th></th>\n",
       "      <th>0</th>\n",
       "      <th>1</th>\n",
       "      <th>2</th>\n",
       "      <th>3</th>\n",
       "    </tr>\n",
       "  </thead>\n",
       "  <tbody>\n",
       "    <tr>\n",
       "      <th>0</th>\n",
       "      <td>1</td>\n",
       "      <td>1</td>\n",
       "      <td>5</td>\n",
       "      <td>874965758</td>\n",
       "    </tr>\n",
       "    <tr>\n",
       "      <th>1</th>\n",
       "      <td>1</td>\n",
       "      <td>2</td>\n",
       "      <td>3</td>\n",
       "      <td>876893171</td>\n",
       "    </tr>\n",
       "    <tr>\n",
       "      <th>2</th>\n",
       "      <td>1</td>\n",
       "      <td>3</td>\n",
       "      <td>4</td>\n",
       "      <td>878542960</td>\n",
       "    </tr>\n",
       "    <tr>\n",
       "      <th>3</th>\n",
       "      <td>1</td>\n",
       "      <td>4</td>\n",
       "      <td>3</td>\n",
       "      <td>876893119</td>\n",
       "    </tr>\n",
       "    <tr>\n",
       "      <th>4</th>\n",
       "      <td>1</td>\n",
       "      <td>5</td>\n",
       "      <td>3</td>\n",
       "      <td>889751712</td>\n",
       "    </tr>\n",
       "  </tbody>\n",
       "</table>\n",
       "</div>"
      ],
      "text/plain": [
       "   0  1  2          3\n",
       "0  1  1  5  874965758\n",
       "1  1  2  3  876893171\n",
       "2  1  3  4  878542960\n",
       "3  1  4  3  876893119\n",
       "4  1  5  3  889751712"
      ]
     },
     "execution_count": 2,
     "metadata": {},
     "output_type": "execute_result"
    }
   ],
   "source": [
    "df.head()"
   ]
  },
  {
   "cell_type": "code",
   "execution_count": 4,
   "metadata": {
    "collapsed": false
   },
   "outputs": [
    {
     "data": {
      "text/html": [
       "<div>\n",
       "<table border=\"1\" class=\"dataframe\">\n",
       "  <thead>\n",
       "    <tr style=\"text-align: right;\">\n",
       "      <th></th>\n",
       "      <th>0</th>\n",
       "      <th>1</th>\n",
       "      <th>2</th>\n",
       "      <th>3</th>\n",
       "    </tr>\n",
       "  </thead>\n",
       "  <tbody>\n",
       "    <tr>\n",
       "      <th>count</th>\n",
       "      <td>90570.000000</td>\n",
       "      <td>90570.000000</td>\n",
       "      <td>90570.000000</td>\n",
       "      <td>9.057000e+04</td>\n",
       "    </tr>\n",
       "    <tr>\n",
       "      <th>mean</th>\n",
       "      <td>461.494038</td>\n",
       "      <td>428.104891</td>\n",
       "      <td>3.523827</td>\n",
       "      <td>8.835073e+08</td>\n",
       "    </tr>\n",
       "    <tr>\n",
       "      <th>std</th>\n",
       "      <td>266.004364</td>\n",
       "      <td>333.088029</td>\n",
       "      <td>1.126073</td>\n",
       "      <td>5.341684e+06</td>\n",
       "    </tr>\n",
       "    <tr>\n",
       "      <th>min</th>\n",
       "      <td>1.000000</td>\n",
       "      <td>1.000000</td>\n",
       "      <td>1.000000</td>\n",
       "      <td>8.747247e+08</td>\n",
       "    </tr>\n",
       "    <tr>\n",
       "      <th>25%</th>\n",
       "      <td>256.000000</td>\n",
       "      <td>174.000000</td>\n",
       "      <td>3.000000</td>\n",
       "      <td>8.794484e+08</td>\n",
       "    </tr>\n",
       "    <tr>\n",
       "      <th>50%</th>\n",
       "      <td>442.000000</td>\n",
       "      <td>324.000000</td>\n",
       "      <td>4.000000</td>\n",
       "      <td>8.828143e+08</td>\n",
       "    </tr>\n",
       "    <tr>\n",
       "      <th>75%</th>\n",
       "      <td>682.000000</td>\n",
       "      <td>636.000000</td>\n",
       "      <td>4.000000</td>\n",
       "      <td>8.882049e+08</td>\n",
       "    </tr>\n",
       "    <tr>\n",
       "      <th>max</th>\n",
       "      <td>943.000000</td>\n",
       "      <td>1682.000000</td>\n",
       "      <td>5.000000</td>\n",
       "      <td>8.932866e+08</td>\n",
       "    </tr>\n",
       "  </tbody>\n",
       "</table>\n",
       "</div>"
      ],
      "text/plain": [
       "                  0             1             2             3\n",
       "count  90570.000000  90570.000000  90570.000000  9.057000e+04\n",
       "mean     461.494038    428.104891      3.523827  8.835073e+08\n",
       "std      266.004364    333.088029      1.126073  5.341684e+06\n",
       "min        1.000000      1.000000      1.000000  8.747247e+08\n",
       "25%      256.000000    174.000000      3.000000  8.794484e+08\n",
       "50%      442.000000    324.000000      4.000000  8.828143e+08\n",
       "75%      682.000000    636.000000      4.000000  8.882049e+08\n",
       "max      943.000000   1682.000000      5.000000  8.932866e+08"
      ]
     },
     "execution_count": 4,
     "metadata": {},
     "output_type": "execute_result"
    }
   ],
   "source": [
    "df.describe()"
   ]
  },
  {
   "cell_type": "code",
   "execution_count": 11,
   "metadata": {
    "collapsed": false
   },
   "outputs": [
    {
     "name": "stdout",
     "output_type": "stream",
     "text": [
      "(2, 0.96426413203468886, 1.0167867701152213)\n",
      "(3, 0.95380054586590424, 1.0157582742164333)\n",
      "(4, 0.94513134443821389, 1.0145592650033677)\n",
      "(5, 0.93670687180079326, 1.0113762120572034)\n",
      "(6, 0.92815531268621232, 1.0084504334390356)\n",
      "(7, 0.92077315179172547, 1.0046728894841279)\n",
      "(8, 0.91355705188978709, 1.0039932435727545)\n",
      "(9, 0.90712422959286843, 1.0036202344843193)\n",
      "(10, 0.90095743395724004, 1.003226297045462)\n",
      "(11, 0.89506760885808845, 1.0034216514568595)\n",
      "(12, 0.88925787528416211, 1.0032947217627954)\n",
      "(13, 0.8833827839544629, 1.0026181410187651)\n",
      "(14, 0.87785788371747264, 1.002039102399878)\n",
      "(15, 0.87207781344935498, 1.0014829915218162)\n",
      "(16, 0.86660582984766021, 1.0012389152368888)\n",
      "(17, 0.86132995931899581, 1.0012939091758046)\n",
      "(18, 0.85619035404349109, 1.001486542931705)\n",
      "(19, 0.85107124790522126, 1.002188015366549)\n",
      "(20, 0.84602537042090054, 1.0022307302697957)\n",
      "(21, 0.84094676921253886, 1.0024252333516122)\n",
      "(22, 0.83604549735449962, 1.0028006254702362)\n",
      "(23, 0.83127736319252366, 1.0034730479672584)\n",
      "(24, 0.82652832872988913, 1.0033036476392652)\n",
      "(25, 0.82197924135055389, 1.0039892742819247)\n",
      "(26, 0.81713348316733503, 1.0037654883465161)\n",
      "(27, 0.81258415345353951, 1.003864750436815)\n",
      "(28, 0.80803640728576476, 1.0042004430968039)\n",
      "(29, 0.8034446336309905, 1.0046192800093234)\n",
      "(30, 0.79895304335930828, 1.0046087997689779)\n",
      "(31, 0.79461325182417808, 1.0047684430719157)\n",
      "(32, 0.79024989265791312, 1.0047126783147391)\n",
      "(33, 0.78582821892304255, 1.0056119471025087)\n",
      "(34, 0.78165933430662571, 1.0057354417892552)\n",
      "(35, 0.77739633122874263, 1.0060623502861983)\n",
      "(36, 0.77337139293167834, 1.0070936428238488)\n",
      "(37, 0.76923654351827908, 1.0069052713239837)\n",
      "(38, 0.76510139858425308, 1.0073230054287594)\n",
      "(39, 0.7610043644635005, 1.007346043461391)\n",
      "(40, 0.75696392866891138, 1.0072321994146347)\n",
      "(41, 0.7528960923666278, 1.0072320552028564)\n",
      "(42, 0.74893078146429382, 1.0070767961919174)\n",
      "(43, 0.74499115114273251, 1.0070300526127802)\n",
      "(44, 0.74105670223930564, 1.0072442073319596)\n",
      "(45, 0.73722729388098729, 1.0068852333327283)\n",
      "(46, 0.73346260521517548, 1.0074631172782311)\n",
      "(47, 0.729690326682918, 1.0078231675333307)\n",
      "(48, 0.72593558667299318, 1.0076619611383433)\n",
      "(49, 0.7223082988032965, 1.0082851258644379)\n"
     ]
    },
    {
     "data": {
      "image/png": "[encoded data removed]",
      "text/plain": [
       "<matplotlib.figure.Figure at 0x10eaed890>"
      ]
     },
     "metadata": {},
     "output_type": "display_data"
    }
   ],
   "source": [
    "values = df.values\n",
    "values[:, 0:2] -= 1\n",
    "X_train = scipy.sparse.csr_matrix((values[:, 2], (values[:, 0], values[:, 1])), dtype=numpy.float, shape=data_shape)\n",
    "\n",
    "df = pandas.read_csv(data_dir + \"ua.test\", sep=\"\\t\", header=-1)\n",
    "values = df.values\n",
    "values[:, 0:2] -= 1\n",
    "X_test = scipy.sparse.csr_matrix((values[:, 2], (values[:, 0], values[:, 1])), dtype=numpy.float, shape=data_shape)\n",
    "\n",
    "# Compute means of nonzero elements\n",
    "X_row_mean = numpy.zeros(data_shape[0])\n",
    "X_row_sum = numpy.zeros(data_shape[0])\n",
    "\n",
    "train_rows, train_cols = X_train.nonzero()\n",
    "\n",
    "# Iterate through nonzero elements to compute sums and counts of rows elements\n",
    "for i in range(train_rows.shape[0]):\n",
    "    X_row_mean[train_rows[i]] += X_train[train_rows[i], train_cols[i]]\n",
    "    X_row_sum[train_rows[i]] += 1\n",
    "\n",
    "# Note that (X_row_sum == 0) is required to prevent divide by zero\n",
    "X_row_mean /= X_row_sum + (X_row_sum == 0)\n",
    "\n",
    "# Subtract mean rating for each user\n",
    "for i in range(train_rows.shape[0]):\n",
    "    X_train[train_rows[i], train_cols[i]] -= X_row_mean[train_rows[i]]\n",
    "\n",
    "test_rows, test_cols = X_test.nonzero()\n",
    "for i in range(test_rows.shape[0]):\n",
    "    X_test[test_rows[i], test_cols[i]] -= X_row_mean[test_rows[i]]\n",
    "\n",
    "X_train = numpy.array(X_train.toarray())\n",
    "X_test = numpy.array(X_test.toarray())\n",
    "\n",
    "ks = numpy.arange(2, 50)\n",
    "train_mae = numpy.zeros(ks.shape[0])\n",
    "test_mae = numpy.zeros(ks.shape[0])\n",
    "train_scores = X_train[(train_rows, train_cols)]\n",
    "test_scores = X_test[(test_rows, test_cols)]\n",
    "\n",
    "# Now take SVD of X_train\n",
    "U, s, Vt = numpy.linalg.svd(X_train, full_matrices=False)\n",
    "\n",
    "for j, k in enumerate(ks):\n",
    "    X_pred = U[:, 0:k].dot(numpy.diag(s[0:k])).dot(Vt[0:k, :])\n",
    "\n",
    "    pred_train_scores = X_pred[(train_rows, train_cols)]\n",
    "    pred_test_scores = X_pred[(test_rows, test_cols)]\n",
    "\n",
    "    train_mae[j] = mean_squared_error(train_scores, pred_train_scores)**0.5\n",
    "    test_mae[j] = mean_squared_error(test_scores, pred_test_scores)**0.5\n",
    "\n",
    "    print(k,  train_mae[j], test_mae[j])\n",
    "\n",
    "plt.plot(ks, train_mae, 'k', label=\"Train\")\n",
    "plt.plot(ks, test_mae, 'r', label=\"Test\")\n",
    "plt.xlabel(\"k\")\n",
    "plt.ylabel(\"MAE\")\n",
    "plt.legend()\n",
    "plt.show()"
   ]
  },
  {
   "cell_type": "code",
   "execution_count": 6,
   "metadata": {
    "collapsed": false
   },
   "outputs": [
    {
     "data": {
      "text/plain": [
       "array([ 1.39694656, -0.60305344,  0.39694656, ..., -0.39240506,\n",
       "       -0.39240506, -0.39240506])"
      ]
     },
     "execution_count": 6,
     "metadata": {},
     "output_type": "execute_result"
    }
   ],
   "source": [
    "train_scores"
   ]
  },
  {
   "cell_type": "code",
   "execution_count": null,
   "metadata": {
    "collapsed": true
   },
   "outputs": [],
   "source": []
  }
 ],
 "metadata": {
  "anaconda-cloud": {},
  "kernelspec": {
   "display_name": "Python [conda root]",
   "language": "python",
   "name": "conda-root-py"
  },
  "language_info": {
   "codemirror_mode": {
    "name": "ipython",
    "version": 2
   },
   "file_extension": ".py",
   "mimetype": "text/x-python",
   "name": "python",
   "nbconvert_exporter": "python",
   "pygments_lexer": "ipython2",
   "version": "2.7.12"
  }
 },
 "nbformat": 4,
 "nbformat_minor": 1
}
