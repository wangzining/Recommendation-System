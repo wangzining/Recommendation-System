{
 "cells": [
  {
   "cell_type": "code",
   "execution_count": 18,
   "metadata": {
    "collapsed": false
   },
   "outputs": [
    {
     "data": {
      "text/plain": [
       "(1000209, 4)"
      ]
     },
     "execution_count": 18,
     "metadata": {},
     "output_type": "execute_result"
    }
   ],
   "source": [
    "# Run some recommendation experiments using MovieLens 1m\n",
    "import pandas\n",
    "import numpy\n",
    "import scipy.sparse\n",
    "import scipy.sparse.linalg\n",
    "import matplotlib.pyplot as plt\n",
    "from sklearn.metrics import mean_absolute_error\n",
    "from sklearn.metrics import mean_squared_error\n",
    "from sklearn.model_selection import train_test_split\n",
    "\n",
    "\n",
    "data_dir = \"data/ml-1m/\"\n",
    "data_shape = (6040, 3952)\n",
    "\n",
    "ratings = pandas.read_csv(data_dir + \"ratings.dat\", sep=\"::\", engine = 'python',header=None)\n",
    "ratings.shape"
   ]
  },
  {
   "cell_type": "code",
   "execution_count": 19,
   "metadata": {
    "collapsed": false
   },
   "outputs": [
    {
     "data": {
      "text/html": [
       "<div>\n",
       "<table border=\"1\" class=\"dataframe\">\n",
       "  <thead>\n",
       "    <tr style=\"text-align: right;\">\n",
       "      <th></th>\n",
       "      <th>0</th>\n",
       "      <th>1</th>\n",
       "      <th>2</th>\n",
       "      <th>3</th>\n",
       "    </tr>\n",
       "  </thead>\n",
       "  <tbody>\n",
       "    <tr>\n",
       "      <th>529184</th>\n",
       "      <td>3271</td>\n",
       "      <td>2517</td>\n",
       "      <td>3</td>\n",
       "      <td>968199386</td>\n",
       "    </tr>\n",
       "    <tr>\n",
       "      <th>341591</th>\n",
       "      <td>2012</td>\n",
       "      <td>2136</td>\n",
       "      <td>3</td>\n",
       "      <td>974679155</td>\n",
       "    </tr>\n",
       "    <tr>\n",
       "      <th>470922</th>\n",
       "      <td>2899</td>\n",
       "      <td>3462</td>\n",
       "      <td>3</td>\n",
       "      <td>971918624</td>\n",
       "    </tr>\n",
       "    <tr>\n",
       "      <th>630004</th>\n",
       "      <td>3808</td>\n",
       "      <td>2011</td>\n",
       "      <td>3</td>\n",
       "      <td>965966131</td>\n",
       "    </tr>\n",
       "    <tr>\n",
       "      <th>131938</th>\n",
       "      <td>854</td>\n",
       "      <td>2166</td>\n",
       "      <td>4</td>\n",
       "      <td>975347462</td>\n",
       "    </tr>\n",
       "  </tbody>\n",
       "</table>\n",
       "</div>"
      ],
      "text/plain": [
       "           0     1  2          3\n",
       "529184  3271  2517  3  968199386\n",
       "341591  2012  2136  3  974679155\n",
       "470922  2899  3462  3  971918624\n",
       "630004  3808  2011  3  965966131\n",
       "131938   854  2166  4  975347462"
      ]
     },
     "execution_count": 19,
     "metadata": {},
     "output_type": "execute_result"
    }
   ],
   "source": [
    "#Split into train and test set... \n",
    "train,test = train_test_split(ratings,test_size=0.2, random_state=1)\n",
    "#train = train.drop(train.columns[[0]],axis = 1)\n",
    "train.head()"
   ]
  },
  {
   "cell_type": "code",
   "execution_count": 20,
   "metadata": {
    "collapsed": false
   },
   "outputs": [],
   "source": [
    "train.to_csv(data_dir + \"train.dat\", index = False, header = False)\n",
    "test.to_csv(data_dir + \"test.dat\", index = False,header = False)"
   ]
  },
  {
   "cell_type": "code",
   "execution_count": 21,
   "metadata": {
    "collapsed": true
   },
   "outputs": [],
   "source": [
    "test = pandas.read_csv(data_dir + \"test.dat\", sep=\",\",header=None)"
   ]
  },
  {
   "cell_type": "code",
   "execution_count": 23,
   "metadata": {
    "collapsed": false
   },
   "outputs": [
    {
     "data": {
      "text/plain": [
       "(200042, 4)"
      ]
     },
     "execution_count": 23,
     "metadata": {},
     "output_type": "execute_result"
    }
   ],
   "source": [
    "test.head()"
   ]
  },
  {
   "cell_type": "code",
   "execution_count": null,
   "metadata": {
    "collapsed": true
   },
   "outputs": [],
   "source": []
  }
 ],
 "metadata": {
  "anaconda-cloud": {},
  "kernelspec": {
   "display_name": "Python [conda root]",
   "language": "python",
   "name": "conda-root-py"
  },
  "language_info": {
   "codemirror_mode": {
    "name": "ipython",
    "version": 2
   },
   "file_extension": ".py",
   "mimetype": "text/x-python",
   "name": "python",
   "nbconvert_exporter": "python",
   "pygments_lexer": "ipython2",
   "version": "2.7.12"
  }
 },
 "nbformat": 4,
 "nbformat_minor": 1
}
