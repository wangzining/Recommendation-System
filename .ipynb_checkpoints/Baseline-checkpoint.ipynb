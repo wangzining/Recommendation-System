{
 "cells": [
  {
   "cell_type": "markdown",
   "metadata": {},
   "source": [
    "This file applies baseline models such as global averages, simple SVD to the data set, and use the result to evaluate our new models."
   ]
  },
  {
   "cell_type": "code",
   "execution_count": 1,
   "metadata": {
    "collapsed": false
   },
   "outputs": [],
   "source": [
    "# Run some recommendation experiments using MovieLens 100K\n",
    "import pandas\n",
    "import numpy\n",
    "import scipy.sparse\n",
    "import scipy.sparse.linalg\n",
    "import matplotlib.pyplot as plt\n",
    "from sklearn.metrics import mean_absolute_error\n",
    "from sklearn.metrics import mean_squared_error\n",
    "\n",
    "\n",
    "path = \"data/ml-1m/\"\n",
    "train = pandas.read_csv(path + \"train.dat\", sep=\",\", header=-1)\n",
    "test = pandas.read_csv(path + \"test.dat\", sep=\",\", header=-1)"
   ]
  },
  {
   "cell_type": "code",
   "execution_count": 2,
   "metadata": {
    "collapsed": false
   },
   "outputs": [
    {
     "name": "stdout",
     "output_type": "stream",
     "text": [
      "(800167, 4) (200042, 4)\n",
      "total data is [1000209, 8]\n"
     ]
    }
   ],
   "source": [
    "print train.shape, test.shape\n",
    "print 'total data is', [train.shape[0]+test.shape[0], train.shape[1]+test.shape[1]]"
   ]
  },
  {
   "cell_type": "code",
   "execution_count": 3,
   "metadata": {
    "collapsed": false
   },
   "outputs": [
    {
     "data": {
      "text/html": [
       "<div>\n",
       "<table border=\"1\" class=\"dataframe\">\n",
       "  <thead>\n",
       "    <tr style=\"text-align: right;\">\n",
       "      <th></th>\n",
       "      <th>0</th>\n",
       "      <th>1</th>\n",
       "      <th>2</th>\n",
       "      <th>3</th>\n",
       "    </tr>\n",
       "  </thead>\n",
       "  <tbody>\n",
       "    <tr>\n",
       "      <th>0</th>\n",
       "      <td>3271</td>\n",
       "      <td>2517</td>\n",
       "      <td>3</td>\n",
       "      <td>968199386</td>\n",
       "    </tr>\n",
       "    <tr>\n",
       "      <th>1</th>\n",
       "      <td>2012</td>\n",
       "      <td>2136</td>\n",
       "      <td>3</td>\n",
       "      <td>974679155</td>\n",
       "    </tr>\n",
       "    <tr>\n",
       "      <th>2</th>\n",
       "      <td>2899</td>\n",
       "      <td>3462</td>\n",
       "      <td>3</td>\n",
       "      <td>971918624</td>\n",
       "    </tr>\n",
       "    <tr>\n",
       "      <th>3</th>\n",
       "      <td>3808</td>\n",
       "      <td>2011</td>\n",
       "      <td>3</td>\n",
       "      <td>965966131</td>\n",
       "    </tr>\n",
       "    <tr>\n",
       "      <th>4</th>\n",
       "      <td>854</td>\n",
       "      <td>2166</td>\n",
       "      <td>4</td>\n",
       "      <td>975347462</td>\n",
       "    </tr>\n",
       "  </tbody>\n",
       "</table>\n",
       "</div>"
      ],
      "text/plain": [
       "      0     1  2          3\n",
       "0  3271  2517  3  968199386\n",
       "1  2012  2136  3  974679155\n",
       "2  2899  3462  3  971918624\n",
       "3  3808  2011  3  965966131\n",
       "4   854  2166  4  975347462"
      ]
     },
     "execution_count": 3,
     "metadata": {},
     "output_type": "execute_result"
    }
   ],
   "source": [
    "train.head()"
   ]
  },
  {
   "cell_type": "code",
   "execution_count": 4,
   "metadata": {
    "collapsed": false
   },
   "outputs": [
    {
     "data": {
      "text/html": [
       "<div>\n",
       "<table border=\"1\" class=\"dataframe\">\n",
       "  <thead>\n",
       "    <tr style=\"text-align: right;\">\n",
       "      <th></th>\n",
       "      <th>0</th>\n",
       "      <th>1</th>\n",
       "      <th>2</th>\n",
       "      <th>3</th>\n",
       "    </tr>\n",
       "  </thead>\n",
       "  <tbody>\n",
       "    <tr>\n",
       "      <th>count</th>\n",
       "      <td>800167.000000</td>\n",
       "      <td>800167.000000</td>\n",
       "      <td>800167.000000</td>\n",
       "      <td>8.001670e+05</td>\n",
       "    </tr>\n",
       "    <tr>\n",
       "      <th>mean</th>\n",
       "      <td>3024.610633</td>\n",
       "      <td>1865.936611</td>\n",
       "      <td>3.581516</td>\n",
       "      <td>9.722407e+08</td>\n",
       "    </tr>\n",
       "    <tr>\n",
       "      <th>std</th>\n",
       "      <td>1727.918951</td>\n",
       "      <td>1095.956667</td>\n",
       "      <td>1.117317</td>\n",
       "      <td>1.213645e+07</td>\n",
       "    </tr>\n",
       "    <tr>\n",
       "      <th>min</th>\n",
       "      <td>1.000000</td>\n",
       "      <td>1.000000</td>\n",
       "      <td>1.000000</td>\n",
       "      <td>9.567039e+08</td>\n",
       "    </tr>\n",
       "    <tr>\n",
       "      <th>25%</th>\n",
       "      <td>1509.000000</td>\n",
       "      <td>1030.000000</td>\n",
       "      <td>3.000000</td>\n",
       "      <td>9.653032e+08</td>\n",
       "    </tr>\n",
       "    <tr>\n",
       "      <th>50%</th>\n",
       "      <td>3069.000000</td>\n",
       "      <td>1836.000000</td>\n",
       "      <td>4.000000</td>\n",
       "      <td>9.729897e+08</td>\n",
       "    </tr>\n",
       "    <tr>\n",
       "      <th>75%</th>\n",
       "      <td>4476.000000</td>\n",
       "      <td>2770.000000</td>\n",
       "      <td>4.000000</td>\n",
       "      <td>9.752220e+08</td>\n",
       "    </tr>\n",
       "    <tr>\n",
       "      <th>max</th>\n",
       "      <td>6040.000000</td>\n",
       "      <td>3952.000000</td>\n",
       "      <td>5.000000</td>\n",
       "      <td>1.046455e+09</td>\n",
       "    </tr>\n",
       "  </tbody>\n",
       "</table>\n",
       "</div>"
      ],
      "text/plain": [
       "                   0              1              2             3\n",
       "count  800167.000000  800167.000000  800167.000000  8.001670e+05\n",
       "mean     3024.610633    1865.936611       3.581516  9.722407e+08\n",
       "std      1727.918951    1095.956667       1.117317  1.213645e+07\n",
       "min         1.000000       1.000000       1.000000  9.567039e+08\n",
       "25%      1509.000000    1030.000000       3.000000  9.653032e+08\n",
       "50%      3069.000000    1836.000000       4.000000  9.729897e+08\n",
       "75%      4476.000000    2770.000000       4.000000  9.752220e+08\n",
       "max      6040.000000    3952.000000       5.000000  1.046455e+09"
      ]
     },
     "execution_count": 4,
     "metadata": {},
     "output_type": "execute_result"
    }
   ],
   "source": [
    "train.describe()"
   ]
  },
  {
   "cell_type": "code",
   "execution_count": 5,
   "metadata": {
    "collapsed": false
   },
   "outputs": [],
   "source": [
    "my_train = train.values\n",
    "my_test = test.values\n",
    "my_train\n",
    "#3952 users, 6041 movies \n",
    "my_shape=(6041,3952)"
   ]
  },
  {
   "cell_type": "code",
   "execution_count": 6,
   "metadata": {
    "collapsed": true
   },
   "outputs": [],
   "source": [
    "my_train[:, 0:2] -= 1   #start the index from 0\n",
    "my_test[:, 0:2] -= 1"
   ]
  },
  {
   "cell_type": "code",
   "execution_count": 7,
   "metadata": {
    "collapsed": false
   },
   "outputs": [],
   "source": [
    "# Use compressed sparse row matrix\n",
    "X_train = scipy.sparse.csr_matrix((my_train[:, 2], (my_train[:, 0], my_train[:, 1])), dtype=numpy.float, shape=my_shape)\n",
    "#X_train.toarray()[0:2,:]\n",
    "X_test = scipy.sparse.csr_matrix((my_test[:, 2], (my_test[:, 0], my_test[:, 1])), dtype=numpy.float, shape=my_shape)"
   ]
  },
  {
   "cell_type": "code",
   "execution_count": 8,
   "metadata": {
    "collapsed": false
   },
   "outputs": [],
   "source": [
    "# Compute row means of nonzero elements (That is, average ratings of movies by a user)\n",
    "row_mean, row_sum = numpy.zeros(my_shape[0]),numpy.zeros(my_shape[0])\n",
    "rows_train, cols_train = X_train.nonzero()  # nonzero pairs (uid, mid)\n",
    "ncols_train = rows_train.shape[0]\n",
    "\n",
    "# Calculate the average ratings of movies by each user of nonzero entries\n",
    "for i in range(ncols_train):\n",
    "    row_mean[rows_train[i]] += X_train[rows_train[i], cols_train[i]]\n",
    "    row_sum[rows_train[i]] += 1\n",
    "\n",
    "# Prevent 0's\n",
    "row_mean /= row_sum + 0.000001\n",
    "\n",
    "# 0-mean normalizer\n",
    "for i in range(ncols_train):\n",
    "    X_train[rows_train[i], cols_train[i]] -= row_mean[rows_train[i]]\n",
    "\n",
    "rows_test, cols_test = X_test.nonzero()\n",
    "ncols_test = rows_test.shape[0]\n",
    "\n",
    "for i in range(ncols_test):\n",
    "    X_test[rows_test[i], cols_test[i]] -= row_mean[rows_test[i]]\n",
    "\n",
    "X_train = numpy.array(X_train.toarray())\n",
    "X_test = numpy.array(X_test.toarray())"
   ]
  },
  {
   "cell_type": "code",
   "execution_count": 27,
   "metadata": {
    "collapsed": false,
    "scrolled": true
   },
   "outputs": [],
   "source": [
    "# For test purpose only\n",
    "# X_train[974,cols_train[121221]]"
   ]
  },
  {
   "cell_type": "code",
   "execution_count": 9,
   "metadata": {
    "collapsed": true
   },
   "outputs": [],
   "source": [
    "steps = 50"
   ]
  },
  {
   "cell_type": "code",
   "execution_count": 10,
   "metadata": {
    "collapsed": false
   },
   "outputs": [
    {
     "name": "stdout",
     "output_type": "stream",
     "text": [
      "Step 0 : RMSE is 0.974536800667 on the training set and 0.984934950297 on the testing set.\n",
      "Step 1 : RMSE is 0.968332946518 on the training set and 0.980333841528 on the testing set.\n",
      "Step 2 : RMSE is 0.96247434404 on the training set and 0.976083448174 on the testing set.\n",
      "Step 3 : RMSE is 0.957395999709 on the training set and 0.972831249812 on the testing set.\n",
      "Step 4 : RMSE is 0.952858466189 on the training set and 0.969979605743 on the testing set.\n",
      "Step 5 : RMSE is 0.948970921205 on the training set and 0.967783956378 on the testing set.\n",
      "Step 6 : RMSE is 0.945339595063 on the training set and 0.966074197788 on the testing set.\n",
      "Step 7 : RMSE is 0.942040561612 on the training set and 0.964814258533 on the testing set.\n",
      "Step 8 : RMSE is 0.938849623826 on the training set and 0.963253495394 on the testing set.\n",
      "Step 9 : RMSE is 0.935895956217 on the training set and 0.962202295968 on the testing set.\n",
      "Step 10 : RMSE is 0.93330563377 on the training set and 0.961996313529 on the testing set.\n",
      "Step 11 : RMSE is 0.930757268706 on the training set and 0.961359192287 on the testing set.\n",
      "Step 12 : RMSE is 0.928060149551 on the training set and 0.960572112017 on the testing set.\n",
      "Step 13 : RMSE is 0.925506289931 on the training set and 0.959964022571 on the testing set.\n",
      "Step 14 : RMSE is 0.92304166845 on the training set and 0.959618187288 on the testing set.\n",
      "Step 15 : RMSE is 0.92063877071 on the training set and 0.959347550786 on the testing set.\n",
      "Step 16 : RMSE is 0.918298640941 on the training set and 0.958924070465 on the testing set.\n",
      "Step 17 : RMSE is 0.916116159612 on the training set and 0.958754661078 on the testing set.\n",
      "Step 18 : RMSE is 0.913969254126 on the training set and 0.958569170234 on the testing set.\n",
      "Step 19 : RMSE is 0.911781178011 on the training set and 0.958203289574 on the testing set.\n",
      "Step 20 : RMSE is 0.909732835798 on the training set and 0.95824459637 on the testing set.\n",
      "Step 21 : RMSE is 0.90766574742 on the training set and 0.958198943945 on the testing set.\n",
      "Step 22 : RMSE is 0.905678438277 on the training set and 0.958479811928 on the testing set.\n",
      "Step 23 : RMSE is 0.903683651053 on the training set and 0.958365157598 on the testing set.\n",
      "Step 24 : RMSE is 0.90175872446 on the training set and 0.95830898652 on the testing set.\n",
      "Step 25 : RMSE is 0.89985753887 on the training set and 0.958603004046 on the testing set.\n",
      "Step 26 : RMSE is 0.897957838124 on the training set and 0.958631575261 on the testing set.\n",
      "Step 27 : RMSE is 0.896133712942 on the training set and 0.958813257937 on the testing set.\n",
      "Step 28 : RMSE is 0.8942630711 on the training set and 0.959049934452 on the testing set.\n",
      "Step 29 : RMSE is 0.892464072546 on the training set and 0.959217368253 on the testing set.\n",
      "Step 30 : RMSE is 0.890641229209 on the training set and 0.959230913493 on the testing set.\n",
      "Step 31 : RMSE is 0.888870893959 on the training set and 0.95937464642 on the testing set.\n",
      "Step 32 : RMSE is 0.886989076951 on the training set and 0.959485385688 on the testing set.\n",
      "Step 33 : RMSE is 0.885272690803 on the training set and 0.959630545055 on the testing set.\n",
      "Step 34 : RMSE is 0.883464052167 on the training set and 0.959694748737 on the testing set.\n",
      "Step 35 : RMSE is 0.881730711841 on the training set and 0.959807686026 on the testing set.\n",
      "Step 36 : RMSE is 0.879988759414 on the training set and 0.960143467205 on the testing set.\n",
      "Step 37 : RMSE is 0.878313646163 on the training set and 0.960455720292 on the testing set.\n",
      "Step 38 : RMSE is 0.876594018642 on the training set and 0.960788444521 on the testing set.\n",
      "Step 39 : RMSE is 0.874933290996 on the training set and 0.961007755983 on the testing set.\n",
      "Step 40 : RMSE is 0.873265007346 on the training set and 0.961253315933 on the testing set.\n",
      "Step 41 : RMSE is 0.871621359445 on the training set and 0.961527115916 on the testing set.\n",
      "Step 42 : RMSE is 0.869920987962 on the training set and 0.961638165274 on the testing set.\n",
      "Step 43 : RMSE is 0.868295264446 on the training set and 0.961767426133 on the testing set.\n",
      "Step 44 : RMSE is 0.866677636231 on the training set and 0.961882852264 on the testing set.\n",
      "Step 45 : RMSE is 0.865059462556 on the training set and 0.962106774 on the testing set.\n",
      "Step 46 : RMSE is 0.863431823502 on the training set and 0.96232440337 on the testing set.\n",
      "Step 47 : RMSE is 0.861890864601 on the training set and 0.962620290162 on the testing set.\n"
     ]
    },
    {
     "data": {
      "image/png": "[encoded data removed]",
      "text/plain": [
       "<matplotlib.figure.Figure at 0x1043ba9d0>"
      ]
     },
     "metadata": {},
     "output_type": "display_data"
    }
   ],
   "source": [
    "errs = numpy.arange(2, steps)\n",
    "train_rmse = numpy.zeros(errs.shape[0])\n",
    "test_rmse = numpy.zeros(errs.shape[0])\n",
    "train_ratings = X_train[(rows_train, cols_train)]\n",
    "test_ratings = X_test[(rows_test, cols_test)]\n",
    "\n",
    "# do the SVD on the matrix X_train\n",
    "U, Sigma, V = numpy.linalg.svd(X_train, full_matrices=False)\n",
    "\n",
    "for i, j in enumerate(errs):\n",
    "    M_pred = U[:, 0:j].dot(numpy.diag(Sigma[0:j])).dot(V[0:j, :])\n",
    "\n",
    "    train_predicts = M_pred[(rows_train, cols_train)]\n",
    "    test_predicts = M_pred[(rows_test, cols_test)]\n",
    "\n",
    "    train_rmse[i] = mean_squared_error(train_ratings,train_predicts)**0.5\n",
    "    test_rmse[i] = mean_squared_error(test_ratings,test_predicts)**0.5\n",
    "\n",
    "    print \"Step\",i,\": RMSE is\", train_rmse[i], \"on the training set and\", test_rmse[i], \"on the testing set.\"\n",
    "    \n",
    "    #Early stopping:\n",
    "#     if i>10 and test_rmse[i] > test_rmse[i-1]:\n",
    "#         print \"Errors on the hold out set begins to go up, so we will stop...\"\n",
    "#         break\n",
    "#   Stopped at around 20th epoch\n",
    "    \n",
    "    \n",
    "plt.plot(errs, train_rmse, 'b', label=\"Train\")\n",
    "plt.plot(errs, test_rmse, 'r', label=\"Test\")\n",
    "plt.xlabel(\"step\")\n",
    "plt.ylabel(\"RMSE\")\n",
    "plt.legend()\n",
    "plt.show()"
   ]
  },
  {
   "cell_type": "code",
   "execution_count": 11,
   "metadata": {
    "collapsed": false
   },
   "outputs": [
    {
     "data": {
      "text/plain": [
       "array([ 0.0906236 ,  0.01610866,  0.09847843, ...,  0.19664302,\n",
       "       -0.0832669 ,  0.14833809])"
      ]
     },
     "execution_count": 11,
     "metadata": {},
     "output_type": "execute_result"
    }
   ],
   "source": [
    "train_predicts"
   ]
  },
  {
   "cell_type": "markdown",
   "metadata": {},
   "source": [
    "Now, compare with predicting using Global averages. "
   ]
  },
  {
   "cell_type": "code",
   "execution_count": 101,
   "metadata": {
    "collapsed": false
   },
   "outputs": [
    {
     "name": "stdout",
     "output_type": "stream",
     "text": [
      "Global average is 3.58151610851\n"
     ]
    }
   ],
   "source": [
    "# Global average:\n",
    "avg = sum(train[2])*1.0/len(train)\n",
    "print 'Global average is', avg"
   ]
  },
  {
   "cell_type": "code",
   "execution_count": 102,
   "metadata": {
    "collapsed": false
   },
   "outputs": [],
   "source": [
    "actual = list(test.iloc[:,2])"
   ]
  },
  {
   "cell_type": "code",
   "execution_count": 103,
   "metadata": {
    "collapsed": false
   },
   "outputs": [
    {
     "name": "stdout",
     "output_type": "stream",
     "text": [
      "Using global average, the RMSE on test data is 1.1162415298\n"
     ]
    }
   ],
   "source": [
    "rmse = 0.0\n",
    "\n",
    "rmse = mean_squared_error([avg]*len(test),actual)**0.5\n",
    "print 'Using global average, the RMSE on test data is', rmse"
   ]
  }
 ],
 "metadata": {
  "anaconda-cloud": {},
  "kernelspec": {
   "display_name": "Python [conda root]",
   "language": "python",
   "name": "conda-root-py"
  },
  "language_info": {
   "codemirror_mode": {
    "name": "ipython",
    "version": 2
   },
   "file_extension": ".py",
   "mimetype": "text/x-python",
   "name": "python",
   "nbconvert_exporter": "python",
   "pygments_lexer": "ipython2",
   "version": "2.7.12"
  }
 },
 "nbformat": 4,
 "nbformat_minor": 1
}
