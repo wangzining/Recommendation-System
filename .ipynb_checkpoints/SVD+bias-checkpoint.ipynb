{
 "cells": [
  {
   "cell_type": "code",
   "execution_count": 1,
   "metadata": {
    "collapsed": false
   },
   "outputs": [
    {
     "data": {
      "text/plain": [
       "(1000209, 4)"
      ]
     },
     "execution_count": 1,
     "metadata": {},
     "output_type": "execute_result"
    }
   ],
   "source": [
    "# Run some recommendation experiments using MovieLens 1m\n",
    "import pandas\n",
    "import numpy\n",
    "import scipy.sparse\n",
    "import scipy.sparse.linalg\n",
    "import matplotlib.pyplot as plt\n",
    "from sklearn.metrics import mean_absolute_error\n",
    "from sklearn.metrics import mean_squared_error\n",
    "from sklearn.model_selection import train_test_split\n",
    "\n",
    "\n",
    "data_dir = \"data/ml-1m/\"\n",
    "data_shape = (6040, 3952)\n",
    "\n",
    "ratings = pandas.read_csv(data_dir + \"ratings.dat\", sep=\"::\", engine = 'python',header=None)\n",
    "ratings.shape"
   ]
  },
  {
   "cell_type": "code",
   "execution_count": 125,
   "metadata": {
    "collapsed": false
   },
   "outputs": [],
   "source": [
    "#Split into train and test set... df is train, df2 is test\n",
    "df,df2 = train_test_split(ratings,test_size=0.2, random_state=1)\n",
    "values = df.values   # train\n",
    "values[:, 0:2] -= 1  # start the index at 0 instead of 1\n",
    "# Convert to our movie-user matrix:23870080 elements, 800167 non-zero elements. Only 3.35% are non-zero\n",
    "X_train = scipy.sparse.csr_matrix((values[:, 2], (values[:, 0], values[:, 1])), dtype=numpy.float, shape=data_shape)\n",
    "\n",
    "df = df2\n",
    "\n",
    "#df = pandas.read_csv(data_dir + \"ua.test\", sep=\"\\t\", header=-1)\n",
    "values = df.values\n",
    "values[:, 0:2] -= 1\n",
    "X_test = scipy.sparse.csr_matrix((values[:, 2], (values[:, 0], values[:, 1])), dtype=numpy.float, shape=data_shape)\n",
    "\n",
    "# Compute means of nonzero elements\n",
    "X_row_mean = numpy.zeros(data_shape[0])\n",
    "X_row_sum = numpy.zeros(data_shape[0])\n",
    "\n",
    "train_rows, train_cols = X_train.nonzero()  #train_rows: rows of non-zero elements . #train_cols: non-zero elements' columns\n",
    "\n",
    "# Iterate through nonzero elements to compute sums and counts of rows elements\n",
    "for i in range(train_rows.shape[0]):\n",
    "    X_row_mean[train_rows[i]] += X_train[train_rows[i], train_cols[i]]\n",
    "    X_row_sum[train_rows[i]] += 1\n",
    "# Note that (X_row_sum == 0) is required to prevent divide by zero\n",
    "X_row_mean /= X_row_sum + (X_row_sum == 0)\n",
    "\n",
    "# Subtract mean rating for each user\n",
    "for i in range(train_rows.shape[0]):\n",
    "    X_train[train_rows[i], train_cols[i]] -= X_row_mean[train_rows[i]]\n",
    "\n",
    "test_rows, test_cols = X_test.nonzero()\n",
    "for i in range(test_rows.shape[0]):\n",
    "    X_test[test_rows[i], test_cols[i]] -= X_row_mean[test_rows[i]]\n",
    "\n",
    "X_train = numpy.array(X_train.toarray())\n",
    "X_test = numpy.array(X_test.toarray())"
   ]
  },
  {
   "cell_type": "code",
   "execution_count": 135,
   "metadata": {
    "collapsed": false
   },
   "outputs": [],
   "source": [
    "ks = numpy.arange(2, 50)\n",
    "train_rmse = numpy.zeros(ks.shape[0])\n",
    "test_rmse = numpy.zeros(ks.shape[0])\n",
    "train_scores = X_train[(train_rows, train_cols)]    # just array of score with train size\n",
    "test_scores = X_test[(test_rows, test_cols)]        # just array of score with test size"
   ]
  },
  {
   "cell_type": "code",
   "execution_count": 139,
   "metadata": {
    "collapsed": false
   },
   "outputs": [
    {
     "data": {
      "text/plain": [
       "0.0"
      ]
     },
     "execution_count": 139,
     "metadata": {},
     "output_type": "execute_result"
    }
   ],
   "source": [
    "X_train[0,662]"
   ]
  },
  {
   "cell_type": "code",
   "execution_count": 140,
   "metadata": {
    "collapsed": false
   },
   "outputs": [
    {
     "name": "stdout",
     "output_type": "stream",
     "text": [
      "(2, 0.97453680177823598, 0.98493495162279243)\n",
      "(3, 0.96833294776864876, 0.98033384296881187)\n",
      "(4, 0.96247434534399012, 0.97608344967649352)\n",
      "(5, 0.95739600113422008, 0.97283125138900572)\n",
      "(6, 0.9528584676959001, 0.96997960738838163)\n",
      "(7, 0.94897092269447025, 0.96778395802356187)\n",
      "(8, 0.94533959660255507, 0.96607419942765516)\n",
      "(9, 0.9420405632036174, 0.96481426025517414)\n",
      "(10, 0.93884962539435102, 0.96325349704562691)\n",
      "(11, 0.93589595778756807, 0.96220229760755105)\n",
      "(12, 0.93330563504712183, 0.96199631467149693)\n",
      "(13, 0.93075727029248878, 0.96135919396629632)\n",
      "(14, 0.92806015116137941, 0.96057211367504991)\n",
      "(15, 0.92550629155363184, 0.95996402421711302)\n",
      "(16, 0.92304167008645399, 0.95961818896695272)\n",
      "(17, 0.92063877241467262, 0.95934755261306437)\n",
      "(18, 0.91829864262815153, 0.95892407214890485)\n",
      "(19, 0.91611616131913365, 0.95875466277442978)\n",
      "(20, 0.91396925585611488, 0.95856917195790081)\n",
      "(21, 0.91178117971874106, 0.95820329123903203)\n",
      "(22, 0.90973283747681866, 0.95824459805632312)\n",
      "(23, 0.90766574913970532, 0.95819894557987007)\n",
      "(24, 0.90567843994986719, 0.95847981359121948)\n",
      "(25, 0.90368365276024998, 0.95836515930452515)\n",
      "(26, 0.90175872621286501, 0.95830898816656007)\n",
      "(27, 0.89985754063405032, 0.95860300568199475)\n",
      "(28, 0.89795783996040512, 0.95863157723691084)\n",
      "(29, 0.89613371469315084, 0.95881325955874119)\n",
      "(30, 0.89426307287262263, 0.95904993605899369)\n",
      "(31, 0.89246407428925167, 0.9592173697914359)\n",
      "(32, 0.89064123096098491, 0.95923091503486269)\n",
      "(33, 0.88887089568316491, 0.95937464789051541)\n",
      "(34, 0.88698907866226995, 0.95948538711275677)\n",
      "(35, 0.88527269251431262, 0.95963054653468893)\n",
      "(36, 0.88346405390369365, 0.95969475020113248)\n",
      "(37, 0.8817307135876955, 0.95980768752410239)\n",
      "(38, 0.8799887611422087, 0.96014346863334821)\n",
      "(39, 0.87831364790828459, 0.96045572174040872)\n",
      "(40, 0.87659402038548206, 0.96078844595351576)\n",
      "(41, 0.87493329275582443, 0.96100775742120481)\n",
      "(42, 0.87326500910041327, 0.96125331737886532)\n",
      "(43, 0.87162136118845523, 0.96152711737464369)\n",
      "(44, 0.86992098968449372, 0.96163816671274771)\n",
      "(45, 0.86829526618863495, 0.96176742752272448)\n",
      "(46, 0.86667763798341491, 0.96188285365843296)\n",
      "(47, 0.86505946424913249, 0.96210677511257192)\n",
      "(48, 0.86343182524448592, 0.96232440477416048)\n",
      "(49, 0.86189086619813415, 0.96262029133473082)\n"
     ]
    },
    {
     "data": {
      "image/png": "[encoded data removed]",
      "text/plain": [
       "<matplotlib.figure.Figure at 0x10f995c90>"
      ]
     },
     "metadata": {},
     "output_type": "display_data"
    }
   ],
   "source": [
    "# Now take SVD of X_train\n",
    "U, s, Vt = numpy.linalg.svd(X_train, full_matrices=False)\n",
    "\n",
    "for j, k in enumerate(ks):\n",
    "    X_pred = U[:, 0:k].dot(numpy.diag(s[0:k])).dot(Vt[0:k, :])\n",
    "\n",
    "    pred_train_scores = X_pred[(train_rows, train_cols)]\n",
    "    pred_test_scores = X_pred[(test_rows, test_cols)]\n",
    "\n",
    "    train_rmse[j] = mean_squared_error(train_scores, pred_train_scores)**0.5\n",
    "    test_rmse[j] = mean_squared_error(test_scores, pred_test_scores)**0.5\n",
    "\n",
    "    print(k,  train_rmse[j], test_rmse[j])\n",
    "\n",
    "plt.plot(ks, train_rmse, 'k', label=\"Train\")\n",
    "plt.plot(ks, test_rmse, 'r', label=\"Test\")\n",
    "plt.xlabel(\"k\")\n",
    "plt.ylabel(\"RMSE\")\n",
    "plt.legend()\n",
    "plt.show()"
   ]
  },
  {
   "cell_type": "code",
   "execution_count": 143,
   "metadata": {
    "collapsed": false
   },
   "outputs": [
    {
     "data": {
      "text/plain": [
       "1000209"
      ]
     },
     "execution_count": 143,
     "metadata": {},
     "output_type": "execute_result"
    }
   ],
   "source": [
    "#len(pred_test_scores)+len(pred_train_scores)"
   ]
  },
  {
   "cell_type": "code",
   "execution_count": null,
   "metadata": {
    "collapsed": true
   },
   "outputs": [],
   "source": []
  }
 ],
 "metadata": {
  "anaconda-cloud": {},
  "kernelspec": {
   "display_name": "Python [conda root]",
   "language": "python",
   "name": "conda-root-py"
  },
  "language_info": {
   "codemirror_mode": {
    "name": "ipython",
    "version": 2
   },
   "file_extension": ".py",
   "mimetype": "text/x-python",
   "name": "python",
   "nbconvert_exporter": "python",
   "pygments_lexer": "ipython2",
   "version": "2.7.12"
  }
 },
 "nbformat": 4,
 "nbformat_minor": 1
}
