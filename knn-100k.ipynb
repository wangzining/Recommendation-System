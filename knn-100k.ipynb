{
 "cells": [
  {
   "cell_type": "code",
   "execution_count": 1,
   "metadata": {
    "collapsed": false
   },
   "outputs": [],
   "source": [
    "import pandas as pd\n",
    "import numpy as np\n",
    "from sklearn.metrics import mean_squared_error\n",
    "from sklearn.preprocessing import maxabs_scale\n",
    "from sklearn.neighbors import KNeighborsClassifier,KNeighborsRegressor\n",
    "from sklearn.metrics import mean_squared_error\n",
    "from sklearn.model_selection import train_test_split,StratifiedShuffleSplit\n",
    "from sklearn.metrics.pairwise import cosine_similarity\n",
    "\n",
    "import matplotlib.pyplot as plt\n",
    "%matplotlib inline"
   ]
  },
  {
   "cell_type": "code",
   "execution_count": 2,
   "metadata": {
    "collapsed": false
   },
   "outputs": [],
   "source": [
    "path = '100k/'\n",
    "userdf = pd.read_csv(path+'u.user',delimiter='|',header=None,engine='python')\n",
    "ratedf = pd.read_csv(path+'u.data',delimiter='\\t',header=None,engine='python')\n",
    "moviedf = pd.read_csv(path+'u.item',index_col=0,delimiter='|',header=None,engine='python')"
   ]
  },
  {
   "cell_type": "code",
   "execution_count": 3,
   "metadata": {
    "collapsed": false
   },
   "outputs": [],
   "source": [
    "traindf = pd.read_csv(path+'ua.base',delimiter='\\t',header=None,engine='python')\n",
    "testdf = pd.read_csv(path+'ua.test',delimiter='\\t',header=None,engine='python')"
   ]
  },
  {
   "cell_type": "code",
   "execution_count": 4,
   "metadata": {
    "collapsed": false
   },
   "outputs": [
    {
     "name": "stdout",
     "output_type": "stream",
     "text": [
      "90570 9430\n"
     ]
    }
   ],
   "source": [
    "print len(traindf),len(testdf)"
   ]
  },
  {
   "cell_type": "code",
   "execution_count": 5,
   "metadata": {
    "collapsed": false
   },
   "outputs": [
    {
     "data": {
      "text/html": [
       "<div>\n",
       "<table border=\"1\" class=\"dataframe\">\n",
       "  <thead>\n",
       "    <tr style=\"text-align: right;\">\n",
       "      <th></th>\n",
       "      <th>1</th>\n",
       "      <th>2</th>\n",
       "      <th>3</th>\n",
       "      <th>4</th>\n",
       "      <th>5</th>\n",
       "      <th>6</th>\n",
       "      <th>7</th>\n",
       "      <th>8</th>\n",
       "      <th>9</th>\n",
       "      <th>10</th>\n",
       "      <th>...</th>\n",
       "      <th>14</th>\n",
       "      <th>15</th>\n",
       "      <th>16</th>\n",
       "      <th>17</th>\n",
       "      <th>18</th>\n",
       "      <th>19</th>\n",
       "      <th>20</th>\n",
       "      <th>21</th>\n",
       "      <th>22</th>\n",
       "      <th>23</th>\n",
       "    </tr>\n",
       "    <tr>\n",
       "      <th>0</th>\n",
       "      <th></th>\n",
       "      <th></th>\n",
       "      <th></th>\n",
       "      <th></th>\n",
       "      <th></th>\n",
       "      <th></th>\n",
       "      <th></th>\n",
       "      <th></th>\n",
       "      <th></th>\n",
       "      <th></th>\n",
       "      <th></th>\n",
       "      <th></th>\n",
       "      <th></th>\n",
       "      <th></th>\n",
       "      <th></th>\n",
       "      <th></th>\n",
       "      <th></th>\n",
       "      <th></th>\n",
       "      <th></th>\n",
       "      <th></th>\n",
       "      <th></th>\n",
       "    </tr>\n",
       "  </thead>\n",
       "  <tbody>\n",
       "    <tr>\n",
       "      <th>1</th>\n",
       "      <td>Toy Story (1995)</td>\n",
       "      <td>01-Jan-1995</td>\n",
       "      <td>NaN</td>\n",
       "      <td>http://us.imdb.com/M/title-exact?Toy%20Story%2...</td>\n",
       "      <td>0</td>\n",
       "      <td>0</td>\n",
       "      <td>0</td>\n",
       "      <td>1</td>\n",
       "      <td>1</td>\n",
       "      <td>1</td>\n",
       "      <td>...</td>\n",
       "      <td>0</td>\n",
       "      <td>0</td>\n",
       "      <td>0</td>\n",
       "      <td>0</td>\n",
       "      <td>0</td>\n",
       "      <td>0</td>\n",
       "      <td>0</td>\n",
       "      <td>0</td>\n",
       "      <td>0</td>\n",
       "      <td>0</td>\n",
       "    </tr>\n",
       "    <tr>\n",
       "      <th>2</th>\n",
       "      <td>GoldenEye (1995)</td>\n",
       "      <td>01-Jan-1995</td>\n",
       "      <td>NaN</td>\n",
       "      <td>http://us.imdb.com/M/title-exact?GoldenEye%20(...</td>\n",
       "      <td>0</td>\n",
       "      <td>1</td>\n",
       "      <td>1</td>\n",
       "      <td>0</td>\n",
       "      <td>0</td>\n",
       "      <td>0</td>\n",
       "      <td>...</td>\n",
       "      <td>0</td>\n",
       "      <td>0</td>\n",
       "      <td>0</td>\n",
       "      <td>0</td>\n",
       "      <td>0</td>\n",
       "      <td>0</td>\n",
       "      <td>0</td>\n",
       "      <td>1</td>\n",
       "      <td>0</td>\n",
       "      <td>0</td>\n",
       "    </tr>\n",
       "    <tr>\n",
       "      <th>3</th>\n",
       "      <td>Four Rooms (1995)</td>\n",
       "      <td>01-Jan-1995</td>\n",
       "      <td>NaN</td>\n",
       "      <td>http://us.imdb.com/M/title-exact?Four%20Rooms%...</td>\n",
       "      <td>0</td>\n",
       "      <td>0</td>\n",
       "      <td>0</td>\n",
       "      <td>0</td>\n",
       "      <td>0</td>\n",
       "      <td>0</td>\n",
       "      <td>...</td>\n",
       "      <td>0</td>\n",
       "      <td>0</td>\n",
       "      <td>0</td>\n",
       "      <td>0</td>\n",
       "      <td>0</td>\n",
       "      <td>0</td>\n",
       "      <td>0</td>\n",
       "      <td>1</td>\n",
       "      <td>0</td>\n",
       "      <td>0</td>\n",
       "    </tr>\n",
       "    <tr>\n",
       "      <th>4</th>\n",
       "      <td>Get Shorty (1995)</td>\n",
       "      <td>01-Jan-1995</td>\n",
       "      <td>NaN</td>\n",
       "      <td>http://us.imdb.com/M/title-exact?Get%20Shorty%...</td>\n",
       "      <td>0</td>\n",
       "      <td>1</td>\n",
       "      <td>0</td>\n",
       "      <td>0</td>\n",
       "      <td>0</td>\n",
       "      <td>1</td>\n",
       "      <td>...</td>\n",
       "      <td>0</td>\n",
       "      <td>0</td>\n",
       "      <td>0</td>\n",
       "      <td>0</td>\n",
       "      <td>0</td>\n",
       "      <td>0</td>\n",
       "      <td>0</td>\n",
       "      <td>0</td>\n",
       "      <td>0</td>\n",
       "      <td>0</td>\n",
       "    </tr>\n",
       "    <tr>\n",
       "      <th>5</th>\n",
       "      <td>Copycat (1995)</td>\n",
       "      <td>01-Jan-1995</td>\n",
       "      <td>NaN</td>\n",
       "      <td>http://us.imdb.com/M/title-exact?Copycat%20(1995)</td>\n",
       "      <td>0</td>\n",
       "      <td>0</td>\n",
       "      <td>0</td>\n",
       "      <td>0</td>\n",
       "      <td>0</td>\n",
       "      <td>0</td>\n",
       "      <td>...</td>\n",
       "      <td>0</td>\n",
       "      <td>0</td>\n",
       "      <td>0</td>\n",
       "      <td>0</td>\n",
       "      <td>0</td>\n",
       "      <td>0</td>\n",
       "      <td>0</td>\n",
       "      <td>1</td>\n",
       "      <td>0</td>\n",
       "      <td>0</td>\n",
       "    </tr>\n",
       "  </tbody>\n",
       "</table>\n",
       "<p>5 rows × 23 columns</p>\n",
       "</div>"
      ],
      "text/plain": [
       "                  1            2   3   \\\n",
       "0                                       \n",
       "1   Toy Story (1995)  01-Jan-1995 NaN   \n",
       "2   GoldenEye (1995)  01-Jan-1995 NaN   \n",
       "3  Four Rooms (1995)  01-Jan-1995 NaN   \n",
       "4  Get Shorty (1995)  01-Jan-1995 NaN   \n",
       "5     Copycat (1995)  01-Jan-1995 NaN   \n",
       "\n",
       "                                                  4   5   6   7   8   9   10  \\\n",
       "0                                                                              \n",
       "1  http://us.imdb.com/M/title-exact?Toy%20Story%2...   0   0   0   1   1   1   \n",
       "2  http://us.imdb.com/M/title-exact?GoldenEye%20(...   0   1   1   0   0   0   \n",
       "3  http://us.imdb.com/M/title-exact?Four%20Rooms%...   0   0   0   0   0   0   \n",
       "4  http://us.imdb.com/M/title-exact?Get%20Shorty%...   0   1   0   0   0   1   \n",
       "5  http://us.imdb.com/M/title-exact?Copycat%20(1995)   0   0   0   0   0   0   \n",
       "\n",
       "  ...  14  15  16  17  18  19  20  21  22  23  \n",
       "0 ...                                          \n",
       "1 ...   0   0   0   0   0   0   0   0   0   0  \n",
       "2 ...   0   0   0   0   0   0   0   1   0   0  \n",
       "3 ...   0   0   0   0   0   0   0   1   0   0  \n",
       "4 ...   0   0   0   0   0   0   0   0   0   0  \n",
       "5 ...   0   0   0   0   0   0   0   1   0   0  \n",
       "\n",
       "[5 rows x 23 columns]"
      ]
     },
     "execution_count": 5,
     "metadata": {},
     "output_type": "execute_result"
    }
   ],
   "source": [
    "moviedf.head()"
   ]
  },
  {
   "cell_type": "code",
   "execution_count": 6,
   "metadata": {
    "collapsed": false,
    "scrolled": false
   },
   "outputs": [
    {
     "name": "stdout",
     "output_type": "stream",
     "text": [
      "495 1\n",
      "737 20\n"
     ]
    },
    {
     "data": {
      "image/png": "[encoded data removed]",
      "text/plain": [
       "<matplotlib.figure.Figure at 0x1122bbc10>"
      ]
     },
     "metadata": {},
     "output_type": "display_data"
    }
   ],
   "source": [
    "count = traindf.groupby(1).size().values\n",
    "print max(count),min(count)\n",
    "count = ratedf.groupby(0).size().values\n",
    "print max(count),min(count)\n",
    "plt.hist(count)\n",
    "plt.title('Histogram of Number of Movies Each User Rated')\n",
    "plt.show()"
   ]
  },
  {
   "cell_type": "code",
   "execution_count": 7,
   "metadata": {
    "collapsed": false
   },
   "outputs": [],
   "source": [
    "# global average\n",
    "global_av = np.mean(traindf[2])\n",
    "global_pred = np.zeros(len(testdf))\n",
    "global_pred.fill(global_av)\n",
    "user_pred = np.zeros(len(testdf))\n",
    "movie_pred = np.zeros(len(testdf))\n",
    "bias_pred = np.zeros(len(testdf))"
   ]
  },
  {
   "cell_type": "code",
   "execution_count": 8,
   "metadata": {
    "collapsed": false,
    "scrolled": false
   },
   "outputs": [],
   "source": [
    "# user rating average\n",
    "user_av = traindf[2].groupby(traindf[0]).mean()\n",
    "# # group rating by user  ID\n",
    "user_gb = traindf.groupby(0)\n",
    "# # movie rating average\n",
    "movie_av =  traindf[2].groupby(traindf[1]).mean()\n",
    "\n",
    "# group rating by movie\n",
    "movie_gb = traindf.groupby(1)\n",
    "# true rating\n",
    "test_y = testdf[2]\n",
    "movies = set(traindf[1])\n",
    "for i,row in testdf.iterrows():\n",
    "    userid = row[0]\n",
    "    movieid = row[1]\n",
    "    user_pred[i] = user_av[userid]\n",
    "    user_bias = user_av[userid]-global_av\n",
    "    if movieid in movies:\n",
    "        movie_pred[i] = movie_av[movieid]\n",
    "        movie_bias = movie_av[movieid]-global_av\n",
    "    else:\n",
    "        movie_pred[i] = global_av\n",
    "        movie_bias = 0\n",
    "    bias_pred[i] = global_av + user_bias +movie_bias\n"
   ]
  },
  {
   "cell_type": "code",
   "execution_count": 9,
   "metadata": {
    "collapsed": false
   },
   "outputs": [
    {
     "name": "stdout",
     "output_type": "stream",
     "text": [
      "Global Average 1.1220056791\n",
      "User Average 1.0431349636\n",
      "Item Average 1.04176479694\n",
      "UserItem Average 0.991903770998\n"
     ]
    }
   ],
   "source": [
    "print 'Global Average',np.sqrt(mean_squared_error(test_y,global_pred))\n",
    "print 'User Average',np.sqrt(mean_squared_error(test_y,user_pred))\n",
    "print 'Item Average',np.sqrt(mean_squared_error(test_y,movie_pred))\n",
    "print 'UserItem Average',np.sqrt(mean_squared_error(test_y,bias_pred))"
   ]
  },
  {
   "cell_type": "code",
   "execution_count": 10,
   "metadata": {
    "collapsed": false,
    "scrolled": false
   },
   "outputs": [
    {
     "name": "stdout",
     "output_type": "stream",
     "text": [
      "   1    2    3    4    5    6    7    8    9    10  ...   934  935  936  937  \\\n",
      "1    5    4    0    0    0    4    0    0    0    4 ...     2    3    4    0   \n",
      "2    3    0    0    0    0    0    0    0    0    0 ...     4    0    0    0   \n",
      "3    4    0    0    0    0    0    0    0    0    0 ...     0    0    4    0   \n",
      "4    3    0    0    0    0    0    5    0    0    4 ...     5    0    0    0   \n",
      "5    3    0    0    0    0    0    0    0    0    0 ...     0    0    0    0   \n",
      "\n",
      "   938  939  940  941  942  943  \n",
      "1    4    0    0    5    0    0  \n",
      "2    0    0    0    0    0    5  \n",
      "3    0    0    0    0    0    0  \n",
      "4    0    0    2    0    0    0  \n",
      "5    0    0    0    0    0    0  \n",
      "\n",
      "[5 rows x 943 columns]\n"
     ]
    }
   ],
   "source": [
    "m = pd.DataFrame(index=np.arange(1682)+1,columns=np.arange(943)+1)\n",
    "# m = pd.DataFrame(columns=np.arange(1682)+1,index=np.arange(943)+1)\n",
    "for item in traindf.iterrows():\n",
    "    item = item[1]\n",
    "    m[item[0]].loc[item[1]]=item[2]\n",
    "m = m.fillna(0)\n",
    "print m.head()\n",
    "m = np.array(m,dtype=float)"
   ]
  },
  {
   "cell_type": "code",
   "execution_count": 11,
   "metadata": {
    "collapsed": false
   },
   "outputs": [],
   "source": [
    "item_unknn = np.zeros(len(testdf))\n",
    "item_wknn = np.zeros(len(testdf))\n",
    "user_pr_unknn = np.zeros(len(testdf))\n",
    "user_pr_wknn = np.zeros(len(testdf))\n",
    "user_cos_unknn = np.zeros(len(testdf))\n",
    "user_cos_wknn = np.zeros(len(testdf))\n",
    "user_adj_unknn = np.zeros(len(testdf))\n",
    "user_adj_wknn = np.zeros(len(testdf))"
   ]
  },
  {
   "cell_type": "code",
   "execution_count": 12,
   "metadata": {
    "collapsed": false,
    "scrolled": false
   },
   "outputs": [
    {
     "name": "stdout",
     "output_type": "stream",
     "text": [
      "k Weighted \tUnweighted\n",
      "3 1.05918305331 1.05735047017\n",
      "5 1.02625140225 1.02320424257\n",
      "10 1.00513474931 1.00004972183\n",
      "20 1.00681798725 0.997621702043\n",
      "25 1.01123122648 1.00033205456\n",
      "50 1.02264412648 1.00806743251\n",
      "80 1.02961044815 1.01269673081\n",
      "100 1.03321768443 1.01476067994\n",
      "200 1.04083988277 1.01858497771\n",
      "300 1.04255242388 1.01928240746\n",
      "400 1.04311932846 1.01945760457\n"
     ]
    }
   ],
   "source": [
    "# Item-based KNN(Cosine similarity)\n",
    "item_unknn_rmse = np.zeros(11)\n",
    "item_wknn_rmse = np.zeros(11)\n",
    "cos_item = cosine_similarity(m)\n",
    "# Replace zero similarity with a small similarity\n",
    "cos_item[cos_item==0]=0.01\n",
    "print 'k Weighted \\t','Unweighted'\n",
    "for i,k in enumerate([3,5,10,20,25,50,80,100,200,300,400]):\n",
    "    for j,item in enumerate(testdf.iterrows()):\n",
    "        item = item[1]\n",
    "        # movieid\n",
    "        movie = item[1]-1\n",
    "        # userid\n",
    "        user = item[0]-1\n",
    "        # user rating\n",
    "        y = m[:,user]\n",
    "        index = np.nonzero(y)\n",
    "        y = y[index]\n",
    "        sim = cos_item[movie][index]\n",
    "        top_k = sim.argsort()[-k:]\n",
    "        # Unweighted\n",
    "        item_unknn[j]=np.sum(y[top_k])/len(top_k)\n",
    "        # Weighted Average\n",
    "        item_wknn[j]=np.dot(y[top_k],sim[top_k])/np.sum(np.absolute(sim[top_k]))\n",
    "    item_unknn_rmse[i] = np.sqrt(mean_squared_error(test_y,item_unknn))\n",
    "    item_wknn_rmse[i] = np.sqrt(mean_squared_error(test_y,item_wknn))\n",
    "    print k,item_unknn_rmse[i],item_wknn_rmse[i]"
   ]
  },
  {
   "cell_type": "code",
   "execution_count": 55,
   "metadata": {
    "collapsed": false
   },
   "outputs": [],
   "source": [
    "# reshape warning\n",
    "from scipy.spatial.distance import correlation\n",
    "import warnings\n",
    "warnings.filterwarnings('ignore')\n",
    "    \n",
    "# pearson correlation\n",
    "def cor(x,y,i,j,f):\n",
    "    index = np.nonzero(x*y)[0]\n",
    "    if i==j: return 1\n",
    "    if len(index)<4: return 0.001\n",
    "    if f=='cor':\n",
    "        x_mean = user_av[i+1]\n",
    "        y_mean = user_av[j+1]\n",
    "        return cosine_similarity(x[index]-x_mean,y[index]-y_mean)\n",
    "    if f=='adj':\n",
    "        x1 = x[index]-movie_av[index+1]\n",
    "        y1 = y[index]-movie_av[index+1]\n",
    "        return cosine_similarity(x1,y1)\n",
    "# Build Similarity Matrix\n",
    "def sim_matrix(matrix,f):\n",
    "    size = len(matrix)\n",
    "    simil = np.zeros((size,size))\n",
    "    for i in range(size):\n",
    "        for j in range(i,size):\n",
    "            result = cor(matrix[i],matrix[j],i,j,f)\n",
    "            simil[i][j]=result\n",
    "            simil[j][i]=result\n",
    "    return simil"
   ]
  },
  {
   "cell_type": "code",
   "execution_count": 56,
   "metadata": {
    "collapsed": false
   },
   "outputs": [],
   "source": [
    "# User-based Rating matrix\n",
    "user_m = m.T"
   ]
  },
  {
   "cell_type": "code",
   "execution_count": 60,
   "metadata": {
    "collapsed": false
   },
   "outputs": [
    {
     "name": "stdout",
     "output_type": "stream",
     "text": [
      "3 1.13691001492 1.13476123779\n",
      "5 1.08115396035 1.06640341404\n",
      "10 1.04660248483 1.01743461343\n",
      "20 1.02990086635 0.993997268104\n",
      "25 1.02826335356 0.989803186322\n",
      "50 1.02713810247 0.981172526374\n",
      "80 1.03019358819 0.978722699294\n",
      "100 1.03172373185 0.979066620173\n",
      "200 1.03844061227 0.977246869341\n",
      "300 1.04064708586 0.976708326257\n",
      "500 1.04176479694 0.976508911263\n"
     ]
    }
   ],
   "source": [
    "# User-based KNN(Pearson Correlation)\n",
    "user_adj1_rmse = np.zeros(11)\n",
    "user_adj2_rmse = np.zeros(11)\n",
    "pearson_user = sim_matrix(user_m,'cor')\n",
    "for i,k in enumerate([3,5,10,20,25,50,80,100,200,300,500]):\n",
    "    for j,item in enumerate(testdf.iterrows()):\n",
    "        item = item[1]\n",
    "        # movieid\n",
    "        movie = item[1]-1\n",
    "        # userid\n",
    "        user = item[0]-1\n",
    "        # user rating\n",
    "        y = user_m[:,movie]\n",
    "        index = np.nonzero(y)[0]\n",
    "        if len(index)==0: \n",
    "            user_adj_unknn[j]=global_av\n",
    "            user_adj_wknn[j]=global_av\n",
    "            continue\n",
    "        y = y[index]\n",
    "        sim = pearson_user[user][index]\n",
    "        top_k = sim.argsort()[-k:]\n",
    "        user_adj_unknn[j]=np.sum(y[top_k])/len(top_k)\n",
    "        user_adj_wknn[j]=np.dot(y[top_k]-user_av[top_k+1],sim[top_k])/np.sum(np.absolute(sim[top_k]))+user_av[user+1]\n",
    "    user_adj1_rmse[i] = np.sqrt(mean_squared_error(test_y,user_adj_unknn))\n",
    "    user_adj2_rmse[i] = np.sqrt(mean_squared_error(test_y,user_adj_wknn))\n",
    "    print k,user_adj1_rmse[i],user_adj2_rmse[i]"
   ]
  },
  {
   "cell_type": "code",
   "execution_count": 80,
   "metadata": {
    "collapsed": false,
    "scrolled": false
   },
   "outputs": [
    {
     "name": "stdout",
     "output_type": "stream",
     "text": [
      "3 1.0936504603 1.10057103914\n",
      "5 1.03356931945 1.04047479436\n",
      "10 0.987856944827 0.993733962453\n",
      "20 0.977603978589 0.97681648262\n",
      "25 0.978745756561 0.975437138337\n",
      "50 0.990734872826 0.973418346958\n",
      "80 1.00370764684 0.97425070068\n",
      "100 1.01068609558 0.974607842414\n",
      "200 1.03119937384 0.975071650398\n",
      "300 1.03759075652 0.975082789574\n",
      "500 1.03990845165 0.975084717165\n"
     ]
    }
   ],
   "source": [
    "# User-based KNN(Adjusted Cosine)\n",
    "user_adj1_rmse = np.zeros(11)\n",
    "user_adj2_rmse = np.zeros(11)\n",
    "adj_user = sim_matrix(user_m,'adj')\n",
    "for i,k in enumerate([3,5,10,20,25,50,80,100,200,300,500]):\n",
    "    for j,item in enumerate(testdf.iterrows()):\n",
    "        item = item[1]\n",
    "        # movieid\n",
    "        movie = item[1]-1\n",
    "        # userid\n",
    "        user = item[0]-1\n",
    "        # user rating\n",
    "        y = user_m[:,movie]\n",
    "        index = np.nonzero(y)[0]\n",
    "        if len(index)==0: \n",
    "            user_adj_unknn[j]=global_av\n",
    "            user_adj_wknn[j]=global_av\n",
    "            continue\n",
    "        y = y[index]\n",
    "        sim = adj_user[user][index]\n",
    "        top_k = sim.argsort()[-k:]\n",
    "        user_adj_unknn[j]=np.sum(y[top_k])/len(top_k)\n",
    "        y = y[top_k]\n",
    "        sim = sim[top_k]\n",
    "        top_k = np.where(sim>0)[0]\n",
    "        if len(top_k)==0:\n",
    "            user_adj_unknn[j]=global_av\n",
    "            user_adj_wknn[j]=global_av\n",
    "            continue\n",
    "        user_adj_wknn[j]=np.dot(y[top_k],sim[top_k])/np.sum(np.absolute(sim[top_k]))\n",
    "    user_adj1_rmse[i] = np.sqrt(mean_squared_error(test_y,user_adj_unknn))\n",
    "    user_adj2_rmse[i] = np.sqrt(mean_squared_error(test_y,user_adj_wknn))\n",
    "    print k,user_adj1_rmse[i],user_adj2_rmse[i]"
   ]
  },
  {
   "cell_type": "code",
   "execution_count": 83,
   "metadata": {
    "collapsed": false
   },
   "outputs": [
    {
     "name": "stdout",
     "output_type": "stream",
     "text": [
      "3 1.13465883803 1.13469687729\n",
      "5 1.08379313788 1.08335985176\n",
      "10 1.0482871379 1.04773119809\n",
      "20 1.03270004813 1.03192226158\n",
      "25 1.03059894115 1.02944060184\n",
      "50 1.02843304435 1.02653268425\n",
      "80 1.03232780077 1.02905000012\n",
      "100 1.03458751413 1.0305999686\n",
      "200 1.03911806588 1.03350120415\n",
      "300 1.04097317994 1.03440336455\n",
      "500 1.04176479694 1.03468914071\n"
     ]
    }
   ],
   "source": [
    "# User-based KNN(Pearson Correlation)\n",
    "user_unknn_rmse = np.zeros(11)\n",
    "user_wknn_rmse = np.zeros(11)\n",
    "cos_user = cosine_similarity(user_m)\n",
    "cos_user[cos_user==0]=0.01\n",
    "# Replace zero similarity with a small similarity\n",
    "for i,k in enumerate([3,5,10,20,25,50,80,100,200,300,500]):\n",
    "    for j,item in enumerate(testdf.iterrows()):\n",
    "        item = item[1]\n",
    "        # movieid\n",
    "        movie = item[1]-1\n",
    "        # userid\n",
    "        user = item[0]-1\n",
    "        # user rating\n",
    "        y = user_m[:,movie]\n",
    "        index = np.nonzero(y)[0]\n",
    "        if len(index)==0: \n",
    "            user_cos_unknn[j]=global_av\n",
    "            user_cos_wknn[j]=global_av\n",
    "            continue\n",
    "        y = y[index]\n",
    "        sim = cos_user[user][index]\n",
    "        top_k = sim.argsort()[-k:]\n",
    "        user_cos_unknn[j]=np.sum(y[top_k])/len(top_k)\n",
    "        user_cos_wknn[j]=np.dot(y[top_k],sim[top_k])/np.sum(np.absolute(sim[top_k]))\n",
    "        \n",
    "    user_unknn_rmse[i] = np.sqrt(mean_squared_error(test_y,user_cos_unknn))\n",
    "    user_wknn_rmse[i] = np.sqrt(mean_squared_error(test_y,user_cos_wknn))\n",
    "    print k,user_unknn_rmse[i],user_wknn_rmse[i]"
   ]
  },
  {
   "cell_type": "code",
   "execution_count": 84,
   "metadata": {
    "collapsed": false
   },
   "outputs": [
    {
     "data": {
      "image/png": "[encoded data removed]",
      "text/plain": [
       "<matplotlib.figure.Figure at 0x113f5dd90>"
      ]
     },
     "metadata": {},
     "output_type": "display_data"
    }
   ],
   "source": [
    "plt.plot([3,5,10,20,25,50,80,100,200,300,400],item_unknn_rmse,label='Item Unweighted RMSE(Cosine)')\n",
    "plt.plot([3,5,10,20,25,50,80,100,200,300,400],item_wknn_rmse,label='Item Weighted RMSE(Cosine)')\n",
    "plt.plot([3,5,10,20,25,50,80,100,200,300,400],user_adj1_rmse,label='User Unweighted RMSE(Adjusted Cosine)')\n",
    "plt.plot([3,5,10,20,25,50,80,100,200,300,400],user_adj2_rmse,label='User Weighted RMSE(Adjusted Cosine)')\n",
    "plt.plot([3,5,10,20,25,50,80,100,200,300,400],user_unknn_rmse,label='User Unweighted RMSE(Pearson Correlation)')\n",
    "plt.plot([3,5,10,20,25,50,80,100,200,300,400],user_wknn_rmse,label='User Weighted RMSE(Pearson Correlation)')\n",
    "plt.legend(bbox_to_anchor=(1.05, 1), loc=2)\n",
    "plt.show()"
   ]
  },
  {
   "cell_type": "code",
   "execution_count": 133,
   "metadata": {
    "collapsed": false
   },
   "outputs": [],
   "source": [
    "m = np.array(m,dtype=float)"
   ]
  },
  {
   "cell_type": "code",
   "execution_count": 161,
   "metadata": {
    "collapsed": false,
    "scrolled": false
   },
   "outputs": [],
   "source": [
    "pred3 = np.zeros(len(testdf))\n",
    "for k in [200]:\n",
    "    for i,item in enumerate(testdf.iterrows()):\n",
    "        item = item[1]\n",
    "        user = item[0]\n",
    "        movie = item[1]\n",
    "        index = pd.notnull(m[user])\n",
    "        train_y = m[user][index]\n",
    "        train_x = m.loc[index]\n",
    "        test_x = m.loc[movie]\n",
    "        pred3[i] = knn_imp(train_x,train_y,test_x,k)\n",
    "        "
   ]
  },
  {
   "cell_type": "code",
   "execution_count": 162,
   "metadata": {
    "collapsed": false
   },
   "outputs": [
    {
     "name": "stdout",
     "output_type": "stream",
     "text": [
      "1.54432725712\n"
     ]
    }
   ],
   "source": [
    "pred3[np.isnan(pred3)]=global_av\n",
    "print mean_squared_error(test_y,pred3)**0.5"
   ]
  },
  {
   "cell_type": "markdown",
   "metadata": {},
   "source": [
    "weighted item based\n",
    "k = 1,3,5,10,15,20,25,50     \n",
    "1.49079892749   \n",
    "1.21362493424   \n",
    "1.14229869195    \n",
    "1.12560730658    \n",
    "1.19329053212   \n",
    "1.2416252918   \n",
    "1.27061276955   \n",
    "1.36583396992\n",
    "\n",
    "user-based unweighted knn:     \n",
    "k=1 1.6700142669  \n",
    "k=3 1.40377137599  \n",
    "k=5 1.3423389031  \n",
    "k=10 1.28925503918  \n",
    "k=15 1.27249989558  \n",
    "k=20 1.26164631112  \n",
    "k=25 1.25401005602  \n",
    "k=50 1.23756805347  "
   ]
  },
  {
   "cell_type": "code",
   "execution_count": 183,
   "metadata": {
    "collapsed": false
   },
   "outputs": [
    {
     "data": {
      "text/html": [
       "<div>\n",
       "<table border=\"1\" class=\"dataframe\">\n",
       "  <thead>\n",
       "    <tr style=\"text-align: right;\">\n",
       "      <th></th>\n",
       "      <th>0</th>\n",
       "      <th>1</th>\n",
       "      <th>2</th>\n",
       "      <th>3</th>\n",
       "      <th>4</th>\n",
       "    </tr>\n",
       "  </thead>\n",
       "  <tbody>\n",
       "    <tr>\n",
       "      <th>0</th>\n",
       "      <td>1</td>\n",
       "      <td>24</td>\n",
       "      <td>M</td>\n",
       "      <td>technician</td>\n",
       "      <td>85711</td>\n",
       "    </tr>\n",
       "    <tr>\n",
       "      <th>1</th>\n",
       "      <td>2</td>\n",
       "      <td>53</td>\n",
       "      <td>F</td>\n",
       "      <td>other</td>\n",
       "      <td>94043</td>\n",
       "    </tr>\n",
       "    <tr>\n",
       "      <th>2</th>\n",
       "      <td>3</td>\n",
       "      <td>23</td>\n",
       "      <td>M</td>\n",
       "      <td>writer</td>\n",
       "      <td>32067</td>\n",
       "    </tr>\n",
       "    <tr>\n",
       "      <th>3</th>\n",
       "      <td>4</td>\n",
       "      <td>24</td>\n",
       "      <td>M</td>\n",
       "      <td>technician</td>\n",
       "      <td>43537</td>\n",
       "    </tr>\n",
       "    <tr>\n",
       "      <th>4</th>\n",
       "      <td>5</td>\n",
       "      <td>33</td>\n",
       "      <td>F</td>\n",
       "      <td>other</td>\n",
       "      <td>15213</td>\n",
       "    </tr>\n",
       "  </tbody>\n",
       "</table>\n",
       "</div>"
      ],
      "text/plain": [
       "   0   1  2           3      4\n",
       "0  1  24  M  technician  85711\n",
       "1  2  53  F       other  94043\n",
       "2  3  23  M      writer  32067\n",
       "3  4  24  M  technician  43537\n",
       "4  5  33  F       other  15213"
      ]
     },
     "execution_count": 183,
     "metadata": {},
     "output_type": "execute_result"
    }
   ],
   "source": [
    "userdf.head()"
   ]
  },
  {
   "cell_type": "code",
   "execution_count": 219,
   "metadata": {
    "collapsed": false,
    "scrolled": false
   },
   "outputs": [
    {
     "name": "stdout",
     "output_type": "stream",
     "text": [
      "   0         1  gender_F  gender_M  occ__administrator  occ__artist  \\\n",
      "0  1  0.021609       0.0       1.0                 0.0          0.0   \n",
      "1  2  0.047721       1.0       0.0                 0.0          0.0   \n",
      "2  3  0.020709       0.0       1.0                 0.0          0.0   \n",
      "3  4  0.021609       0.0       1.0                 0.0          0.0   \n",
      "4  5  0.029713       1.0       0.0                 0.0          0.0   \n",
      "\n",
      "   occ__doctor  occ__educator  occ__engineer  occ__entertainment     ...       \\\n",
      "0          0.0            0.0            0.0                 0.0     ...        \n",
      "1          0.0            0.0            0.0                 0.0     ...        \n",
      "2          0.0            0.0            0.0                 0.0     ...        \n",
      "3          0.0            0.0            0.0                 0.0     ...        \n",
      "4          0.0            0.0            0.0                 0.0     ...        \n",
      "\n",
      "   occ__marketing  occ__none  occ__other  occ__programmer  occ__retired  \\\n",
      "0             0.0        0.0         0.0              0.0           0.0   \n",
      "1             0.0        0.0         1.0              0.0           0.0   \n",
      "2             0.0        0.0         0.0              0.0           0.0   \n",
      "3             0.0        0.0         0.0              0.0           0.0   \n",
      "4             0.0        0.0         1.0              0.0           0.0   \n",
      "\n",
      "   occ__salesman  occ__scientist  occ__student  occ__technician  occ__writer  \n",
      "0            0.0             0.0           0.0              1.0          0.0  \n",
      "1            0.0             0.0           0.0              0.0          0.0  \n",
      "2            0.0             0.0           0.0              0.0          1.0  \n",
      "3            0.0             0.0           0.0              1.0          0.0  \n",
      "4            0.0             0.0           0.0              0.0          0.0  \n",
      "\n",
      "[5 rows x 25 columns]\n",
      "(943, 25)\n"
     ]
    },
    {
     "name": "stderr",
     "output_type": "stream",
     "text": [
      "/Users/Jiayu/Library/Python/2.7/lib/python/site-packages/sklearn/utils/validation.py:395: DeprecationWarning: Passing 1d arrays as data is deprecated in 0.17 and will raise ValueError in 0.19. Reshape your data either using X.reshape(-1, 1) if your data has a single feature or X.reshape(1, -1) if it contains a single sample.\n",
      "  DeprecationWarning)\n"
     ]
    }
   ],
   "source": [
    "from sklearn.preprocessing import normalize\n",
    "# userdf[0]-=1\n",
    "# print min(userdf[2]),max(userdf[2])\n",
    "# userdf[2] = (userdf[2]-min(userdf[2]))/(max(userdf[2])-min(userdf[2]))\n",
    "# age=[1,18,25,35,45,50,56]\n",
    "# categories=[1,2,3,4,5,6,7]\n",
    "# age_dict = dict(zip(age,categories))\n",
    "# userdf[2] = map(lambda x:age_dict[x],userdf[2])\n",
    "userdf[1]=normalize(userdf[1])[0]\n",
    "# userdf = pd.concat([userdf,pd.get_dummies(userdf[2],prefix='age')],axis=1)\n",
    "# userdf = userdf.drop(2,axis=1)\n",
    "# userdf[4] = userdf[4].str[:1]\n",
    "# print userdf[4]\n",
    "# userdf = pd.concat([userdf,pd.get_dummies(userdf[2],prefix='age')],axis=1)\n",
    "# userdf = userdf.drop(2,axis=1)\n",
    "userdf = pd.concat([userdf,pd.get_dummies(userdf[2],prefix='gender')],axis=1)\n",
    "userdf = userdf.drop(2,axis=1)\n",
    "userdf = pd.concat([userdf,pd.get_dummies(userdf[3],prefix='occ_')],axis=1)\n",
    "userdf = userdf.drop(3,axis=1)\n",
    "# userdf = pd.concat([userdf,pd.get_dummies(userdf[4],prefix='zip_code')],axis=1)\n",
    "userdf = userdf.drop(4,axis=1)\n",
    "print userdf.head()\n",
    "print userdf.shape"
   ]
  },
  {
   "cell_type": "code",
   "execution_count": 220,
   "metadata": {
    "collapsed": false
   },
   "outputs": [
    {
     "data": {
      "text/html": [
       "<div>\n",
       "<table border=\"1\" class=\"dataframe\">\n",
       "  <thead>\n",
       "    <tr style=\"text-align: right;\">\n",
       "      <th></th>\n",
       "      <th>0</th>\n",
       "      <th>1</th>\n",
       "      <th>gender_F</th>\n",
       "      <th>gender_M</th>\n",
       "      <th>occ__administrator</th>\n",
       "      <th>occ__artist</th>\n",
       "      <th>occ__doctor</th>\n",
       "      <th>occ__educator</th>\n",
       "      <th>occ__engineer</th>\n",
       "      <th>occ__entertainment</th>\n",
       "      <th>...</th>\n",
       "      <th>occ__marketing</th>\n",
       "      <th>occ__none</th>\n",
       "      <th>occ__other</th>\n",
       "      <th>occ__programmer</th>\n",
       "      <th>occ__retired</th>\n",
       "      <th>occ__salesman</th>\n",
       "      <th>occ__scientist</th>\n",
       "      <th>occ__student</th>\n",
       "      <th>occ__technician</th>\n",
       "      <th>occ__writer</th>\n",
       "    </tr>\n",
       "  </thead>\n",
       "  <tbody>\n",
       "    <tr>\n",
       "      <th>0</th>\n",
       "      <td>1</td>\n",
       "      <td>0.021609</td>\n",
       "      <td>0.0</td>\n",
       "      <td>1.0</td>\n",
       "      <td>0.0</td>\n",
       "      <td>0.0</td>\n",
       "      <td>0.0</td>\n",
       "      <td>0.0</td>\n",
       "      <td>0.0</td>\n",
       "      <td>0.0</td>\n",
       "      <td>...</td>\n",
       "      <td>0.0</td>\n",
       "      <td>0.0</td>\n",
       "      <td>0.0</td>\n",
       "      <td>0.0</td>\n",
       "      <td>0.0</td>\n",
       "      <td>0.0</td>\n",
       "      <td>0.0</td>\n",
       "      <td>0.0</td>\n",
       "      <td>1.0</td>\n",
       "      <td>0.0</td>\n",
       "    </tr>\n",
       "    <tr>\n",
       "      <th>1</th>\n",
       "      <td>2</td>\n",
       "      <td>0.047721</td>\n",
       "      <td>1.0</td>\n",
       "      <td>0.0</td>\n",
       "      <td>0.0</td>\n",
       "      <td>0.0</td>\n",
       "      <td>0.0</td>\n",
       "      <td>0.0</td>\n",
       "      <td>0.0</td>\n",
       "      <td>0.0</td>\n",
       "      <td>...</td>\n",
       "      <td>0.0</td>\n",
       "      <td>0.0</td>\n",
       "      <td>1.0</td>\n",
       "      <td>0.0</td>\n",
       "      <td>0.0</td>\n",
       "      <td>0.0</td>\n",
       "      <td>0.0</td>\n",
       "      <td>0.0</td>\n",
       "      <td>0.0</td>\n",
       "      <td>0.0</td>\n",
       "    </tr>\n",
       "    <tr>\n",
       "      <th>2</th>\n",
       "      <td>3</td>\n",
       "      <td>0.020709</td>\n",
       "      <td>0.0</td>\n",
       "      <td>1.0</td>\n",
       "      <td>0.0</td>\n",
       "      <td>0.0</td>\n",
       "      <td>0.0</td>\n",
       "      <td>0.0</td>\n",
       "      <td>0.0</td>\n",
       "      <td>0.0</td>\n",
       "      <td>...</td>\n",
       "      <td>0.0</td>\n",
       "      <td>0.0</td>\n",
       "      <td>0.0</td>\n",
       "      <td>0.0</td>\n",
       "      <td>0.0</td>\n",
       "      <td>0.0</td>\n",
       "      <td>0.0</td>\n",
       "      <td>0.0</td>\n",
       "      <td>0.0</td>\n",
       "      <td>1.0</td>\n",
       "    </tr>\n",
       "    <tr>\n",
       "      <th>3</th>\n",
       "      <td>4</td>\n",
       "      <td>0.021609</td>\n",
       "      <td>0.0</td>\n",
       "      <td>1.0</td>\n",
       "      <td>0.0</td>\n",
       "      <td>0.0</td>\n",
       "      <td>0.0</td>\n",
       "      <td>0.0</td>\n",
       "      <td>0.0</td>\n",
       "      <td>0.0</td>\n",
       "      <td>...</td>\n",
       "      <td>0.0</td>\n",
       "      <td>0.0</td>\n",
       "      <td>0.0</td>\n",
       "      <td>0.0</td>\n",
       "      <td>0.0</td>\n",
       "      <td>0.0</td>\n",
       "      <td>0.0</td>\n",
       "      <td>0.0</td>\n",
       "      <td>1.0</td>\n",
       "      <td>0.0</td>\n",
       "    </tr>\n",
       "    <tr>\n",
       "      <th>4</th>\n",
       "      <td>5</td>\n",
       "      <td>0.029713</td>\n",
       "      <td>1.0</td>\n",
       "      <td>0.0</td>\n",
       "      <td>0.0</td>\n",
       "      <td>0.0</td>\n",
       "      <td>0.0</td>\n",
       "      <td>0.0</td>\n",
       "      <td>0.0</td>\n",
       "      <td>0.0</td>\n",
       "      <td>...</td>\n",
       "      <td>0.0</td>\n",
       "      <td>0.0</td>\n",
       "      <td>1.0</td>\n",
       "      <td>0.0</td>\n",
       "      <td>0.0</td>\n",
       "      <td>0.0</td>\n",
       "      <td>0.0</td>\n",
       "      <td>0.0</td>\n",
       "      <td>0.0</td>\n",
       "      <td>0.0</td>\n",
       "    </tr>\n",
       "  </tbody>\n",
       "</table>\n",
       "<p>5 rows × 25 columns</p>\n",
       "</div>"
      ],
      "text/plain": [
       "   0         1  gender_F  gender_M  occ__administrator  occ__artist  \\\n",
       "0  1  0.021609       0.0       1.0                 0.0          0.0   \n",
       "1  2  0.047721       1.0       0.0                 0.0          0.0   \n",
       "2  3  0.020709       0.0       1.0                 0.0          0.0   \n",
       "3  4  0.021609       0.0       1.0                 0.0          0.0   \n",
       "4  5  0.029713       1.0       0.0                 0.0          0.0   \n",
       "\n",
       "   occ__doctor  occ__educator  occ__engineer  occ__entertainment     ...       \\\n",
       "0          0.0            0.0            0.0                 0.0     ...        \n",
       "1          0.0            0.0            0.0                 0.0     ...        \n",
       "2          0.0            0.0            0.0                 0.0     ...        \n",
       "3          0.0            0.0            0.0                 0.0     ...        \n",
       "4          0.0            0.0            0.0                 0.0     ...        \n",
       "\n",
       "   occ__marketing  occ__none  occ__other  occ__programmer  occ__retired  \\\n",
       "0             0.0        0.0         0.0              0.0           0.0   \n",
       "1             0.0        0.0         1.0              0.0           0.0   \n",
       "2             0.0        0.0         0.0              0.0           0.0   \n",
       "3             0.0        0.0         0.0              0.0           0.0   \n",
       "4             0.0        0.0         1.0              0.0           0.0   \n",
       "\n",
       "   occ__salesman  occ__scientist  occ__student  occ__technician  occ__writer  \n",
       "0            0.0             0.0           0.0              1.0          0.0  \n",
       "1            0.0             0.0           0.0              0.0          0.0  \n",
       "2            0.0             0.0           0.0              0.0          1.0  \n",
       "3            0.0             0.0           0.0              1.0          0.0  \n",
       "4            0.0             0.0           0.0              0.0          0.0  \n",
       "\n",
       "[5 rows x 25 columns]"
      ]
     },
     "execution_count": 220,
     "metadata": {},
     "output_type": "execute_result"
    }
   ],
   "source": [
    "userdf.head()"
   ]
  },
  {
   "cell_type": "code",
   "execution_count": 190,
   "metadata": {
    "collapsed": false
   },
   "outputs": [
    {
     "data": {
      "text/html": [
       "<div>\n",
       "<table border=\"1\" class=\"dataframe\">\n",
       "  <thead>\n",
       "    <tr style=\"text-align: right;\">\n",
       "      <th></th>\n",
       "      <th>1</th>\n",
       "      <th>2</th>\n",
       "      <th>3</th>\n",
       "      <th>4</th>\n",
       "      <th>5</th>\n",
       "      <th>6</th>\n",
       "      <th>7</th>\n",
       "      <th>8</th>\n",
       "      <th>9</th>\n",
       "      <th>10</th>\n",
       "      <th>...</th>\n",
       "      <th>14</th>\n",
       "      <th>15</th>\n",
       "      <th>16</th>\n",
       "      <th>17</th>\n",
       "      <th>18</th>\n",
       "      <th>19</th>\n",
       "      <th>20</th>\n",
       "      <th>21</th>\n",
       "      <th>22</th>\n",
       "      <th>23</th>\n",
       "    </tr>\n",
       "    <tr>\n",
       "      <th>0</th>\n",
       "      <th></th>\n",
       "      <th></th>\n",
       "      <th></th>\n",
       "      <th></th>\n",
       "      <th></th>\n",
       "      <th></th>\n",
       "      <th></th>\n",
       "      <th></th>\n",
       "      <th></th>\n",
       "      <th></th>\n",
       "      <th></th>\n",
       "      <th></th>\n",
       "      <th></th>\n",
       "      <th></th>\n",
       "      <th></th>\n",
       "      <th></th>\n",
       "      <th></th>\n",
       "      <th></th>\n",
       "      <th></th>\n",
       "      <th></th>\n",
       "      <th></th>\n",
       "    </tr>\n",
       "  </thead>\n",
       "  <tbody>\n",
       "    <tr>\n",
       "      <th>1</th>\n",
       "      <td>Toy Story (1995)</td>\n",
       "      <td>01-Jan-1995</td>\n",
       "      <td>NaN</td>\n",
       "      <td>http://us.imdb.com/M/title-exact?Toy%20Story%2...</td>\n",
       "      <td>0</td>\n",
       "      <td>0</td>\n",
       "      <td>0</td>\n",
       "      <td>1</td>\n",
       "      <td>1</td>\n",
       "      <td>1</td>\n",
       "      <td>...</td>\n",
       "      <td>0</td>\n",
       "      <td>0</td>\n",
       "      <td>0</td>\n",
       "      <td>0</td>\n",
       "      <td>0</td>\n",
       "      <td>0</td>\n",
       "      <td>0</td>\n",
       "      <td>0</td>\n",
       "      <td>0</td>\n",
       "      <td>0</td>\n",
       "    </tr>\n",
       "    <tr>\n",
       "      <th>2</th>\n",
       "      <td>GoldenEye (1995)</td>\n",
       "      <td>01-Jan-1995</td>\n",
       "      <td>NaN</td>\n",
       "      <td>http://us.imdb.com/M/title-exact?GoldenEye%20(...</td>\n",
       "      <td>0</td>\n",
       "      <td>1</td>\n",
       "      <td>1</td>\n",
       "      <td>0</td>\n",
       "      <td>0</td>\n",
       "      <td>0</td>\n",
       "      <td>...</td>\n",
       "      <td>0</td>\n",
       "      <td>0</td>\n",
       "      <td>0</td>\n",
       "      <td>0</td>\n",
       "      <td>0</td>\n",
       "      <td>0</td>\n",
       "      <td>0</td>\n",
       "      <td>1</td>\n",
       "      <td>0</td>\n",
       "      <td>0</td>\n",
       "    </tr>\n",
       "    <tr>\n",
       "      <th>3</th>\n",
       "      <td>Four Rooms (1995)</td>\n",
       "      <td>01-Jan-1995</td>\n",
       "      <td>NaN</td>\n",
       "      <td>http://us.imdb.com/M/title-exact?Four%20Rooms%...</td>\n",
       "      <td>0</td>\n",
       "      <td>0</td>\n",
       "      <td>0</td>\n",
       "      <td>0</td>\n",
       "      <td>0</td>\n",
       "      <td>0</td>\n",
       "      <td>...</td>\n",
       "      <td>0</td>\n",
       "      <td>0</td>\n",
       "      <td>0</td>\n",
       "      <td>0</td>\n",
       "      <td>0</td>\n",
       "      <td>0</td>\n",
       "      <td>0</td>\n",
       "      <td>1</td>\n",
       "      <td>0</td>\n",
       "      <td>0</td>\n",
       "    </tr>\n",
       "    <tr>\n",
       "      <th>4</th>\n",
       "      <td>Get Shorty (1995)</td>\n",
       "      <td>01-Jan-1995</td>\n",
       "      <td>NaN</td>\n",
       "      <td>http://us.imdb.com/M/title-exact?Get%20Shorty%...</td>\n",
       "      <td>0</td>\n",
       "      <td>1</td>\n",
       "      <td>0</td>\n",
       "      <td>0</td>\n",
       "      <td>0</td>\n",
       "      <td>1</td>\n",
       "      <td>...</td>\n",
       "      <td>0</td>\n",
       "      <td>0</td>\n",
       "      <td>0</td>\n",
       "      <td>0</td>\n",
       "      <td>0</td>\n",
       "      <td>0</td>\n",
       "      <td>0</td>\n",
       "      <td>0</td>\n",
       "      <td>0</td>\n",
       "      <td>0</td>\n",
       "    </tr>\n",
       "    <tr>\n",
       "      <th>5</th>\n",
       "      <td>Copycat (1995)</td>\n",
       "      <td>01-Jan-1995</td>\n",
       "      <td>NaN</td>\n",
       "      <td>http://us.imdb.com/M/title-exact?Copycat%20(1995)</td>\n",
       "      <td>0</td>\n",
       "      <td>0</td>\n",
       "      <td>0</td>\n",
       "      <td>0</td>\n",
       "      <td>0</td>\n",
       "      <td>0</td>\n",
       "      <td>...</td>\n",
       "      <td>0</td>\n",
       "      <td>0</td>\n",
       "      <td>0</td>\n",
       "      <td>0</td>\n",
       "      <td>0</td>\n",
       "      <td>0</td>\n",
       "      <td>0</td>\n",
       "      <td>1</td>\n",
       "      <td>0</td>\n",
       "      <td>0</td>\n",
       "    </tr>\n",
       "  </tbody>\n",
       "</table>\n",
       "<p>5 rows × 23 columns</p>\n",
       "</div>"
      ],
      "text/plain": [
       "                  1            2   3   \\\n",
       "0                                       \n",
       "1   Toy Story (1995)  01-Jan-1995 NaN   \n",
       "2   GoldenEye (1995)  01-Jan-1995 NaN   \n",
       "3  Four Rooms (1995)  01-Jan-1995 NaN   \n",
       "4  Get Shorty (1995)  01-Jan-1995 NaN   \n",
       "5     Copycat (1995)  01-Jan-1995 NaN   \n",
       "\n",
       "                                                  4   5   6   7   8   9   10  \\\n",
       "0                                                                              \n",
       "1  http://us.imdb.com/M/title-exact?Toy%20Story%2...   0   0   0   1   1   1   \n",
       "2  http://us.imdb.com/M/title-exact?GoldenEye%20(...   0   1   1   0   0   0   \n",
       "3  http://us.imdb.com/M/title-exact?Four%20Rooms%...   0   0   0   0   0   0   \n",
       "4  http://us.imdb.com/M/title-exact?Get%20Shorty%...   0   1   0   0   0   1   \n",
       "5  http://us.imdb.com/M/title-exact?Copycat%20(1995)   0   0   0   0   0   0   \n",
       "\n",
       "  ...  14  15  16  17  18  19  20  21  22  23  \n",
       "0 ...                                          \n",
       "1 ...   0   0   0   0   0   0   0   0   0   0  \n",
       "2 ...   0   0   0   0   0   0   0   1   0   0  \n",
       "3 ...   0   0   0   0   0   0   0   1   0   0  \n",
       "4 ...   0   0   0   0   0   0   0   0   0   0  \n",
       "5 ...   0   0   0   0   0   0   0   1   0   0  \n",
       "\n",
       "[5 rows x 23 columns]"
      ]
     },
     "execution_count": 190,
     "metadata": {},
     "output_type": "execute_result"
    }
   ],
   "source": [
    "moviedf.head()"
   ]
  },
  {
   "cell_type": "code",
   "execution_count": 221,
   "metadata": {
    "collapsed": false,
    "scrolled": false
   },
   "outputs": [],
   "source": [
    "# moviedf = moviedf.drop(0,axis=0)\n",
    "moviedf = moviedf.drop([3,4],axis=1)"
   ]
  },
  {
   "cell_type": "code",
   "execution_count": 222,
   "metadata": {
    "collapsed": false,
    "scrolled": false
   },
   "outputs": [],
   "source": [
    "import re\n",
    "pat = re.compile(\"\\(([0-9]+)\\)\")\n",
    "moviedf['year'] = np.zeros(len(moviedf))\n",
    "for i,s in enumerate(moviedf[1]):\n",
    "    if pat.search(s): moviedf['year'].loc[i+1]=(int(pat.search(s).group(1)[2:])-1)/10\n",
    "# years = [(int(pat.search(s).group(1)[2:])-1)/10 for s in moviedf[1]]\n",
    "# years = [9 if x==-1 else x for x in years]\n",
    "# moviedf['year'] = years\n",
    "# moviedf = pd.concat([moviedf,pd.get_dummies(moviedf['year'],prefix='year')],axis=1)\n",
    "# moviedf = moviedf.drop('year',axis=1)\n",
    "# moviedf.tail()"
   ]
  },
  {
   "cell_type": "code",
   "execution_count": 223,
   "metadata": {
    "collapsed": false,
    "scrolled": false
   },
   "outputs": [
    {
     "name": "stdout",
     "output_type": "stream",
     "text": [
      "                                              1            2  5  6  7  8  9  \\\n",
      "0                                                                             \n",
      "1678                          Mat' i syn (1997)  06-Feb-1998  0  0  0  0  0   \n",
      "1679                           B. Monkey (1998)  06-Feb-1998  0  0  0  0  0   \n",
      "1680                       Sliding Doors (1998)  01-Jan-1998  0  0  0  0  0   \n",
      "1681                        You So Crazy (1994)  01-Jan-1994  0  0  0  0  0   \n",
      "1682  Scream of Stone (Schrei aus Stein) (1991)  08-Mar-1996  0  0  0  0  0   \n",
      "\n",
      "      10  11  12  ...   15  16  17  18  19  20  21  22  23  year  \n",
      "0                 ...                                             \n",
      "1678   0   0   0  ...    0   0   0   0   0   0   0   0   0   9.0  \n",
      "1679   0   0   0  ...    0   0   0   0   1   0   1   0   0   9.0  \n",
      "1680   0   0   0  ...    0   0   0   0   1   0   0   0   0   9.0  \n",
      "1681   1   0   0  ...    0   0   0   0   0   0   0   0   0   9.0  \n",
      "1682   0   0   0  ...    0   0   0   0   0   0   0   0   0   9.0  \n",
      "\n",
      "[5 rows x 22 columns]\n",
      "(943, 25) (1682, 22)\n"
     ]
    }
   ],
   "source": [
    "print moviedf.tail()\n",
    "print userdf.shape,moviedf.shape"
   ]
  },
  {
   "cell_type": "code",
   "execution_count": 228,
   "metadata": {
    "collapsed": false
   },
   "outputs": [],
   "source": [
    "train_x = np.zeros((len(traindf),43))\n",
    "test_x = np.zeros((len(testdf),43))\n",
    "train_y = traindf[2]\n",
    "test_y = testdf[2]\n",
    "for i in range(len(traindf)):\n",
    "    userid = int(traindf.loc[i][0])-1\n",
    "    movieid = int(traindf.loc[i][1])\n",
    "    train_x[i] = np.concatenate([userdf.loc[userid][2:],moviedf.loc[movieid][2:]])\n",
    "\n",
    "for i in range(len(testdf)):\n",
    "    userid = int(testdf.loc[i][0])-1\n",
    "    movieid = int(testdf.loc[i][1])\n",
    "    test_x[i] = np.concatenate([userdf.loc[userid][2:],moviedf.loc[movieid][2:]])\n"
   ]
  },
  {
   "cell_type": "code",
   "execution_count": 232,
   "metadata": {
    "collapsed": false
   },
   "outputs": [
    {
     "name": "stdout",
     "output_type": "stream",
     "text": [
      "1000 0.05\n",
      "0 1.05138639689 1.07737422605\n",
      "1000 0.1\n",
      "1 1.04353735725 1.07292649494\n",
      "1000 0.3\n",
      "2 1.03426262633 1.06996977482\n",
      "1000 0.5\n",
      "3 1.03006092394 1.06992306398\n",
      "1000 0.8\n",
      "4 1.02659466937 1.07222583751\n",
      "1500 0.05\n",
      "5 1.04747299499 1.07521435973\n",
      "1500 0.1\n",
      "6 1.04016958072 1.07163341653\n",
      "1500 0.3\n",
      "7 1.03146646269 1.06976632067\n",
      "1500 0.5\n",
      "8 1.02734926923 1.07102405251\n",
      "1500 0.8\n",
      "9 1.0237268464 1.07299308948\n",
      "2000 0.05\n",
      "10 1.04461486315 1.07361615081\n",
      "2000 0.1\n",
      "11 1.03799786763 1.07081597312\n",
      "2000 0.3\n",
      "12 1.02942620362 1.06971275125\n",
      "2000 0.5\n",
      "13 1.02538602349 1.07141734322\n",
      "2000 0.8\n",
      "14 1.02195278119 1.07370775603\n"
     ]
    }
   ],
   "source": [
    "import xgboost as xgb\n",
    "train_rmse = np.zeros(20)\n",
    "test_rmse = np.zeros(20)\n",
    "n = [1000,1500,2000]\n",
    "lr = [0.05,0.1,0.3,0.5,0.8]\n",
    "i = 0\n",
    "for estimator in n:\n",
    "    for gamma in lr:\n",
    "        print estimator,gamma\n",
    "        xgbtree=xgb.XGBRegressor(n_estimators=estimator,learning_rate=gamma)\n",
    "        xgbtree.fit(train_x,train_y)\n",
    "        train_rmse[i] = mean_squared_error(train_y,xgbtree.predict(train_x))**0.5\n",
    "        test_rmse[i] = mean_squared_error(test_y,xgbtree.predict(test_x))**0.5\n",
    "        print i,train_rmse[i],test_rmse[i]\n",
    "        i+=1"
   ]
  },
  {
   "cell_type": "code",
   "execution_count": null,
   "metadata": {
    "collapsed": true
   },
   "outputs": [],
   "source": [
    "from scipy.stats import pearsonr\n",
    "def knn_imp(train_x,train_y,test_x,k):\n",
    "    train_x = np.array(train_x,dtype=float)\n",
    "    train_y = np.array(train_y,dtype=float)\n",
    "    test_x = np.array(test_x,dtype=float)\n",
    "    sim = np.zeros(len(train_y))\n",
    "    for i,row in enumerate(train_x):\n",
    "        sim[i]=pearson(test_x,row)\n",
    "#     print sim\n",
    "    index = sim.argsort()[-1*k:]\n",
    "    s = sim[index]\n",
    "    r = train_y[index]\n",
    "    return np.dot(s,r)/np.sum(np.absolute(s))\n",
    "#     return (train_y[sim.argsort()[-1*k:]]*1.0).mean()"
   ]
  }
 ],
 "metadata": {
  "kernelspec": {
   "display_name": "Python 2",
   "language": "python",
   "name": "python2"
  },
  "language_info": {
   "codemirror_mode": {
    "name": "ipython",
    "version": 2
   },
   "file_extension": ".py",
   "mimetype": "text/x-python",
   "name": "python",
   "nbconvert_exporter": "python",
   "pygments_lexer": "ipython2",
   "version": "2.7.10"
  }
 },
 "nbformat": 4,
 "nbformat_minor": 0
}
